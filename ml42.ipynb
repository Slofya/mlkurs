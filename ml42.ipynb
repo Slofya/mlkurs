{
 "cells": [
  {
   "cell_type": "markdown",
   "id": "74cf1485",
   "metadata": {},
   "source": [
    "### Площадь под графиком и управление порогом  \n",
    "#### Цель работы  \n",
    "Научиться применять кривые PR и ROC для оценки моделей классификации, использовать их для выбора оптимального порога классификации  \n",
    "\n",
    "#### Содержание работы  \n",
    "Сгенерируйте датасет для бинарной классификации, обучите на нем модель логистической регрессии и постройте для этой модели кривые ROC и PR.  \n",
    "Вычислите для этой модели метрики площади под кривыми (ROC-AUC и PR-AUC).  \n",
    "Обучите на том же датасете другую модель и сравните ее эффективность по кривым и по метрикам.  \n",
    "Сгенерируйте датасет для бинарной классификации с большим дисбалансом классов, обучите на нам ту же модель и постройте кривые.  \n",
    "Используйте данные, вычисленные для построения кривых для нахождения оптимального значения порога модели. Постройте матрицу классификации для модели с порогом по умолчанию и с лучшим порогом. Сравните результаты.  "
   ]
  },
  {
   "cell_type": "code",
   "execution_count": 4,
   "id": "8965da36",
   "metadata": {},
   "outputs": [],
   "source": [
    "import numpy as np\n",
    "import pandas as pd\n",
    "import matplotlib.pyplot as plt\n",
    "from sklearn.datasets import make_blobs, make_classification\n",
    "from sklearn.model_selection import train_test_split"
   ]
  },
  {
   "cell_type": "code",
   "execution_count": 2,
   "id": "e9bd2981",
   "metadata": {},
   "outputs": [],
   "source": [
    "X, y = make_classification(n_samples=1000, n_classes=2, random_state=1)"
   ]
  },
  {
   "cell_type": "code",
   "execution_count": 5,
   "id": "32996e46",
   "metadata": {},
   "outputs": [],
   "source": [
    "X_train, X_test, y_train, y_test = train_test_split(X, y, test_size=0.5, random_state=2)"
   ]
  },
  {
   "cell_type": "code",
   "execution_count": 6,
   "id": "12abbb3f",
   "metadata": {},
   "outputs": [],
   "source": [
    "from sklearn.linear_model import LogisticRegression\n",
    "model = LogisticRegression().fit(X_train, y_train)"
   ]
  },
  {
   "cell_type": "code",
   "execution_count": 7,
   "id": "272bfe54",
   "metadata": {},
   "outputs": [],
   "source": [
    "y_pred_proba = model.predict_proba(X_test)"
   ]
  },
  {
   "cell_type": "code",
   "execution_count": 8,
   "id": "f6f41579",
   "metadata": {},
   "outputs": [
    {
     "data": {
      "text/plain": [
       "array([[4.02958497e-03, 9.95970415e-01],\n",
       "       [2.00643855e-03, 9.97993561e-01],\n",
       "       [9.94696564e-01, 5.30343592e-03],\n",
       "       [8.47909962e-01, 1.52090038e-01],\n",
       "       [1.66614096e-03, 9.98333859e-01],\n",
       "       [4.99240075e-01, 5.00759925e-01],\n",
       "       [9.80208762e-01, 1.97912375e-02],\n",
       "       [9.76507391e-01, 2.34926092e-02],\n",
       "       [1.79866697e-02, 9.82013330e-01],\n",
       "       [2.93132539e-01, 7.06867461e-01],\n",
       "       [9.95836132e-01, 4.16386810e-03],\n",
       "       [2.53456369e-01, 7.46543631e-01],\n",
       "       [9.92314475e-01, 7.68552501e-03],\n",
       "       [3.80237693e-02, 9.61976231e-01],\n",
       "       [6.47256719e-02, 9.35274328e-01],\n",
       "       [1.91873737e-01, 8.08126263e-01],\n",
       "       [8.55142720e-01, 1.44857280e-01],\n",
       "       [4.34150814e-02, 9.56584919e-01],\n",
       "       [8.43060465e-01, 1.56939535e-01],\n",
       "       [5.51009943e-02, 9.44899006e-01],\n",
       "       [1.32996996e-01, 8.67003004e-01],\n",
       "       [5.89343759e-01, 4.10656241e-01],\n",
       "       [9.79492824e-01, 2.05071761e-02],\n",
       "       [3.32717535e-01, 6.67282465e-01],\n",
       "       [9.95735139e-01, 4.26486101e-03],\n",
       "       [4.32960210e-02, 9.56703979e-01],\n",
       "       [3.06747941e-01, 6.93252059e-01],\n",
       "       [5.58496147e-03, 9.94415039e-01],\n",
       "       [9.75085912e-01, 2.49140883e-02],\n",
       "       [4.49565464e-01, 5.50434536e-01],\n",
       "       [2.07990595e-01, 7.92009405e-01],\n",
       "       [1.84801505e-01, 8.15198495e-01],\n",
       "       [9.18056817e-01, 8.19431826e-02],\n",
       "       [1.76607813e-01, 8.23392187e-01],\n",
       "       [9.84635470e-01, 1.53645300e-02],\n",
       "       [9.20144616e-01, 7.98553843e-02],\n",
       "       [1.24257149e-02, 9.87574285e-01],\n",
       "       [6.30439035e-02, 9.36956096e-01],\n",
       "       [1.36586895e-02, 9.86341311e-01],\n",
       "       [6.80146181e-01, 3.19853819e-01],\n",
       "       [9.90154590e-01, 9.84540971e-03],\n",
       "       [9.61721079e-01, 3.82789214e-02],\n",
       "       [9.01421897e-01, 9.85781033e-02],\n",
       "       [1.62028010e-02, 9.83797199e-01],\n",
       "       [9.93458299e-01, 6.54170093e-03],\n",
       "       [4.70239491e-01, 5.29760509e-01],\n",
       "       [4.98021699e-01, 5.01978301e-01],\n",
       "       [2.24271444e-03, 9.97757286e-01],\n",
       "       [9.91595225e-01, 8.40477518e-03],\n",
       "       [8.57713490e-01, 1.42286510e-01],\n",
       "       [9.77770315e-01, 2.22296854e-02],\n",
       "       [3.51989940e-01, 6.48010060e-01],\n",
       "       [2.08511857e-02, 9.79148814e-01],\n",
       "       [7.67225639e-01, 2.32774361e-01],\n",
       "       [9.49056115e-01, 5.09438851e-02],\n",
       "       [9.61139107e-02, 9.03886089e-01],\n",
       "       [9.37834924e-01, 6.21650762e-02],\n",
       "       [9.32216077e-01, 6.77839227e-02],\n",
       "       [9.45439578e-01, 5.45604220e-02],\n",
       "       [3.81224022e-01, 6.18775978e-01],\n",
       "       [1.46559218e-01, 8.53440782e-01],\n",
       "       [9.52398356e-01, 4.76016439e-02],\n",
       "       [3.96635735e-01, 6.03364265e-01],\n",
       "       [9.71206871e-01, 2.87931289e-02],\n",
       "       [9.64539490e-01, 3.54605105e-02],\n",
       "       [8.77136442e-01, 1.22863558e-01],\n",
       "       [6.19709563e-01, 3.80290437e-01],\n",
       "       [9.96006780e-01, 3.99321972e-03],\n",
       "       [3.73903242e-01, 6.26096758e-01],\n",
       "       [1.63546219e-01, 8.36453781e-01],\n",
       "       [8.97994835e-01, 1.02005165e-01],\n",
       "       [9.72087486e-01, 2.79125137e-02],\n",
       "       [5.06362456e-02, 9.49363754e-01],\n",
       "       [1.09202587e-01, 8.90797413e-01],\n",
       "       [9.84675260e-03, 9.90153247e-01],\n",
       "       [3.50847318e-04, 9.99649153e-01],\n",
       "       [9.15922951e-01, 8.40770494e-02],\n",
       "       [3.12598157e-01, 6.87401843e-01],\n",
       "       [9.57239869e-01, 4.27601306e-02],\n",
       "       [8.40035536e-01, 1.59964464e-01],\n",
       "       [9.98524584e-01, 1.47541642e-03],\n",
       "       [9.64983037e-01, 3.50169626e-02],\n",
       "       [2.06929879e-01, 7.93070121e-01],\n",
       "       [9.97398748e-01, 2.60125237e-03],\n",
       "       [6.14178188e-02, 9.38582181e-01],\n",
       "       [7.22821348e-01, 2.77178652e-01],\n",
       "       [2.41343121e-02, 9.75865688e-01],\n",
       "       [4.71295873e-01, 5.28704127e-01],\n",
       "       [6.07239625e-02, 9.39276038e-01],\n",
       "       [1.87236639e-02, 9.81276336e-01],\n",
       "       [1.34900590e-01, 8.65099410e-01],\n",
       "       [2.90363017e-02, 9.70963698e-01],\n",
       "       [1.98207422e-01, 8.01792578e-01],\n",
       "       [8.54856067e-02, 9.14514393e-01],\n",
       "       [3.21886667e-01, 6.78113333e-01],\n",
       "       [3.47888513e-01, 6.52111487e-01],\n",
       "       [9.60377959e-01, 3.96220409e-02],\n",
       "       [4.29057624e-01, 5.70942376e-01],\n",
       "       [7.48162758e-01, 2.51837242e-01],\n",
       "       [7.26233923e-02, 9.27376608e-01],\n",
       "       [4.10621407e-02, 9.58937859e-01],\n",
       "       [8.91968839e-01, 1.08031161e-01],\n",
       "       [1.37803282e-01, 8.62196718e-01],\n",
       "       [9.83748235e-01, 1.62517653e-02],\n",
       "       [6.81843240e-01, 3.18156760e-01],\n",
       "       [4.99317530e-01, 5.00682470e-01],\n",
       "       [1.77483708e-01, 8.22516292e-01],\n",
       "       [9.26966554e-01, 7.30334459e-02],\n",
       "       [1.23283717e-01, 8.76716283e-01],\n",
       "       [5.91564257e-01, 4.08435743e-01],\n",
       "       [6.00085149e-01, 3.99914851e-01],\n",
       "       [1.91927344e-01, 8.08072656e-01],\n",
       "       [5.77861486e-02, 9.42213851e-01],\n",
       "       [5.43793385e-01, 4.56206615e-01],\n",
       "       [9.95423253e-01, 4.57674740e-03],\n",
       "       [1.20264539e-01, 8.79735461e-01],\n",
       "       [1.16173445e-02, 9.88382655e-01],\n",
       "       [8.55259324e-01, 1.44740676e-01],\n",
       "       [9.41575423e-01, 5.84245774e-02],\n",
       "       [2.36834040e-01, 7.63165960e-01],\n",
       "       [9.15058156e-01, 8.49418445e-02],\n",
       "       [9.14354737e-01, 8.56452635e-02],\n",
       "       [9.99746307e-01, 2.53692998e-04],\n",
       "       [7.68985948e-01, 2.31014052e-01],\n",
       "       [3.97027607e-01, 6.02972393e-01],\n",
       "       [5.67306158e-02, 9.43269384e-01],\n",
       "       [7.96341955e-02, 9.20365804e-01],\n",
       "       [4.30186271e-01, 5.69813729e-01],\n",
       "       [4.39796602e-01, 5.60203398e-01],\n",
       "       [1.42409205e-01, 8.57590795e-01],\n",
       "       [7.90560945e-01, 2.09439055e-01],\n",
       "       [2.85553009e-01, 7.14446991e-01],\n",
       "       [9.98142396e-01, 1.85760384e-03],\n",
       "       [8.28009235e-01, 1.71990765e-01],\n",
       "       [9.53433026e-01, 4.65669740e-02],\n",
       "       [2.44787795e-01, 7.55212205e-01],\n",
       "       [6.92770003e-01, 3.07229997e-01],\n",
       "       [9.96379624e-01, 3.62037591e-03],\n",
       "       [2.53575705e-01, 7.46424295e-01],\n",
       "       [5.65153842e-01, 4.34846158e-01],\n",
       "       [1.83504588e-01, 8.16495412e-01],\n",
       "       [9.07842924e-03, 9.90921571e-01],\n",
       "       [4.60300503e-02, 9.53969950e-01],\n",
       "       [7.91866241e-01, 2.08133759e-01],\n",
       "       [9.92725641e-01, 7.27435911e-03],\n",
       "       [9.84228819e-01, 1.57711811e-02],\n",
       "       [9.59470875e-01, 4.05291251e-02],\n",
       "       [6.75534607e-02, 9.32446539e-01],\n",
       "       [8.42167385e-02, 9.15783262e-01],\n",
       "       [9.96108263e-01, 3.89173750e-03],\n",
       "       [1.21999634e-01, 8.78000366e-01],\n",
       "       [6.80019937e-01, 3.19980063e-01],\n",
       "       [9.72881220e-01, 2.71187802e-02],\n",
       "       [8.33412584e-01, 1.66587416e-01],\n",
       "       [2.33975651e-03, 9.97660243e-01],\n",
       "       [4.38868622e-01, 5.61131378e-01],\n",
       "       [9.55520887e-01, 4.44791130e-02],\n",
       "       [5.04018049e-01, 4.95981951e-01],\n",
       "       [9.72506470e-01, 2.74935300e-02],\n",
       "       [1.42456335e-02, 9.85754367e-01],\n",
       "       [9.71715204e-01, 2.82847965e-02],\n",
       "       [3.07300777e-01, 6.92699223e-01],\n",
       "       [2.50115340e-01, 7.49884660e-01],\n",
       "       [9.97501661e-01, 2.49833922e-03],\n",
       "       [7.20720492e-01, 2.79279508e-01],\n",
       "       [7.59768498e-03, 9.92402315e-01],\n",
       "       [5.61816671e-01, 4.38183329e-01],\n",
       "       [8.58784088e-01, 1.41215912e-01],\n",
       "       [2.15210047e-01, 7.84789953e-01],\n",
       "       [9.38242344e-01, 6.17576557e-02],\n",
       "       [9.99713650e-01, 2.86349929e-04],\n",
       "       [8.11670860e-02, 9.18832914e-01],\n",
       "       [7.52048325e-02, 9.24795167e-01],\n",
       "       [9.59622577e-01, 4.03774234e-02],\n",
       "       [9.95153527e-01, 4.84647256e-03],\n",
       "       [8.01237752e-01, 1.98762248e-01],\n",
       "       [3.52116971e-02, 9.64788303e-01],\n",
       "       [9.84635471e-01, 1.53645288e-02],\n",
       "       [7.34561191e-01, 2.65438809e-01],\n",
       "       [1.51545809e-02, 9.84845419e-01],\n",
       "       [9.99763796e-01, 2.36204377e-04],\n",
       "       [5.25315890e-02, 9.47468411e-01],\n",
       "       [9.59397910e-01, 4.06020903e-02],\n",
       "       [2.38324763e-01, 7.61675237e-01],\n",
       "       [9.90085318e-01, 9.91468239e-03],\n",
       "       [1.78446835e-01, 8.21553165e-01],\n",
       "       [4.01420338e-02, 9.59857966e-01],\n",
       "       [9.20315076e-01, 7.96849242e-02],\n",
       "       [5.35939545e-01, 4.64060455e-01],\n",
       "       [5.09617512e-03, 9.94903825e-01],\n",
       "       [4.49039479e-01, 5.50960521e-01],\n",
       "       [1.89496577e-04, 9.99810503e-01],\n",
       "       [9.93562634e-01, 6.43736603e-03],\n",
       "       [4.15009409e-02, 9.58499059e-01],\n",
       "       [4.12172205e-01, 5.87827795e-01],\n",
       "       [9.96118887e-01, 3.88111340e-03],\n",
       "       [8.29805519e-01, 1.70194481e-01],\n",
       "       [9.07238556e-02, 9.09276144e-01],\n",
       "       [3.64474518e-01, 6.35525482e-01],\n",
       "       [6.72553451e-01, 3.27446549e-01],\n",
       "       [7.73488428e-01, 2.26511572e-01],\n",
       "       [2.76409769e-01, 7.23590231e-01],\n",
       "       [5.29660308e-02, 9.47033969e-01],\n",
       "       [3.46966913e-01, 6.53033087e-01],\n",
       "       [9.99003461e-01, 9.96538603e-04],\n",
       "       [7.24634799e-01, 2.75365201e-01],\n",
       "       [3.21472830e-01, 6.78527170e-01],\n",
       "       [9.94327117e-01, 5.67288268e-03],\n",
       "       [9.21914202e-01, 7.80857980e-02],\n",
       "       [5.95841378e-03, 9.94041586e-01],\n",
       "       [4.66850777e-01, 5.33149223e-01],\n",
       "       [7.16718656e-02, 9.28328134e-01],\n",
       "       [5.75393180e-01, 4.24606820e-01],\n",
       "       [2.07679102e-01, 7.92320898e-01],\n",
       "       [9.44699822e-01, 5.53001779e-02],\n",
       "       [6.24319066e-01, 3.75680934e-01],\n",
       "       [2.02202078e-02, 9.79779792e-01],\n",
       "       [1.51741920e-01, 8.48258080e-01],\n",
       "       [1.19889396e-02, 9.88011060e-01],\n",
       "       [2.67136165e-01, 7.32863835e-01],\n",
       "       [9.94510880e-01, 5.48911964e-03],\n",
       "       [3.61396459e-01, 6.38603541e-01],\n",
       "       [9.99882722e-01, 1.17277815e-04],\n",
       "       [2.95968110e-02, 9.70403189e-01],\n",
       "       [3.64066648e-01, 6.35933352e-01],\n",
       "       [9.67015004e-01, 3.29849957e-02],\n",
       "       [9.86816924e-01, 1.31830759e-02],\n",
       "       [8.43100399e-01, 1.56899601e-01],\n",
       "       [9.68150552e-01, 3.18494477e-02],\n",
       "       [4.08750477e-02, 9.59124952e-01],\n",
       "       [7.85089860e-01, 2.14910140e-01],\n",
       "       [9.83493762e-01, 1.65062377e-02],\n",
       "       [1.11800398e-01, 8.88199602e-01],\n",
       "       [6.57919165e-02, 9.34208084e-01],\n",
       "       [3.22132346e-01, 6.77867654e-01],\n",
       "       [4.36242849e-02, 9.56375715e-01],\n",
       "       [3.07343486e-01, 6.92656514e-01],\n",
       "       [4.87105748e-01, 5.12894252e-01],\n",
       "       [1.31459598e-02, 9.86854040e-01],\n",
       "       [3.65889689e-01, 6.34110311e-01],\n",
       "       [9.83297843e-01, 1.67021573e-02],\n",
       "       [7.10892298e-01, 2.89107702e-01],\n",
       "       [1.85474393e-02, 9.81452561e-01],\n",
       "       [8.15212731e-01, 1.84787269e-01],\n",
       "       [9.96400942e-01, 3.59905841e-03],\n",
       "       [2.02172137e-01, 7.97827863e-01],\n",
       "       [5.66108658e-01, 4.33891342e-01],\n",
       "       [8.85869861e-02, 9.11413014e-01],\n",
       "       [9.81138551e-01, 1.88614495e-02],\n",
       "       [2.20737660e-01, 7.79262340e-01],\n",
       "       [1.66131502e-01, 8.33868498e-01],\n",
       "       [5.45895192e-01, 4.54104808e-01],\n",
       "       [2.36837207e-01, 7.63162793e-01],\n",
       "       [3.37028278e-01, 6.62971722e-01],\n",
       "       [1.22555633e-01, 8.77444367e-01],\n",
       "       [6.44786871e-01, 3.55213129e-01],\n",
       "       [1.79839214e-01, 8.20160786e-01],\n",
       "       [8.19776085e-01, 1.80223915e-01],\n",
       "       [6.89013575e-01, 3.10986425e-01],\n",
       "       [9.73907432e-01, 2.60925678e-02],\n",
       "       [4.21058870e-02, 9.57894113e-01],\n",
       "       [9.93755817e-01, 6.24418350e-03],\n",
       "       [9.95566197e-01, 4.43380270e-03],\n",
       "       [8.70864692e-03, 9.91291353e-01],\n",
       "       [6.74946773e-01, 3.25053227e-01],\n",
       "       [9.11560926e-01, 8.84390740e-02],\n",
       "       [6.56473419e-01, 3.43526581e-01],\n",
       "       [7.38669229e-01, 2.61330771e-01],\n",
       "       [9.92656496e-01, 7.34350386e-03],\n",
       "       [7.02267101e-01, 2.97732899e-01],\n",
       "       [6.43881969e-01, 3.56118031e-01],\n",
       "       [9.18307099e-01, 8.16929011e-02],\n",
       "       [1.19208037e-01, 8.80791963e-01],\n",
       "       [9.88195714e-01, 1.18042858e-02],\n",
       "       [1.91772180e-01, 8.08227820e-01],\n",
       "       [7.11416031e-01, 2.88583969e-01],\n",
       "       [6.01073847e-01, 3.98926153e-01],\n",
       "       [9.88495269e-01, 1.15047310e-02],\n",
       "       [1.56320386e-01, 8.43679614e-01],\n",
       "       [2.31711812e-01, 7.68288188e-01],\n",
       "       [6.18721407e-01, 3.81278593e-01],\n",
       "       [7.20447088e-01, 2.79552912e-01],\n",
       "       [8.88811159e-01, 1.11188841e-01],\n",
       "       [7.70384837e-01, 2.29615163e-01],\n",
       "       [7.26633387e-01, 2.73366613e-01],\n",
       "       [1.67491801e-01, 8.32508199e-01],\n",
       "       [9.08485661e-01, 9.15143395e-02],\n",
       "       [6.74746287e-01, 3.25253713e-01],\n",
       "       [3.64239609e-01, 6.35760391e-01],\n",
       "       [9.09885365e-01, 9.01146355e-02],\n",
       "       [6.27803061e-02, 9.37219694e-01],\n",
       "       [9.17372917e-01, 8.26270828e-02],\n",
       "       [9.81811124e-01, 1.81888757e-02],\n",
       "       [8.85245773e-01, 1.14754227e-01],\n",
       "       [4.03483122e-01, 5.96516878e-01],\n",
       "       [9.95073852e-02, 9.00492615e-01],\n",
       "       [5.41107713e-01, 4.58892287e-01],\n",
       "       [2.23640709e-02, 9.77635929e-01],\n",
       "       [1.23688148e-01, 8.76311852e-01],\n",
       "       [9.89187657e-01, 1.08123425e-02],\n",
       "       [3.52139233e-01, 6.47860767e-01],\n",
       "       [1.63451073e-01, 8.36548927e-01],\n",
       "       [5.53286650e-01, 4.46713350e-01],\n",
       "       [9.51031235e-01, 4.89687649e-02],\n",
       "       [9.77414792e-01, 2.25852081e-02],\n",
       "       [9.76442653e-01, 2.35573473e-02],\n",
       "       [9.79020229e-01, 2.09797714e-02],\n",
       "       [1.10019947e-01, 8.89980053e-01],\n",
       "       [4.07564530e-01, 5.92435470e-01],\n",
       "       [9.97879002e-01, 2.12099832e-03],\n",
       "       [3.92208521e-03, 9.96077915e-01],\n",
       "       [4.32545155e-02, 9.56745485e-01],\n",
       "       [3.07204520e-01, 6.92795480e-01],\n",
       "       [1.81998634e-02, 9.81800137e-01],\n",
       "       [4.39090527e-04, 9.99560909e-01],\n",
       "       [8.53642987e-01, 1.46357013e-01],\n",
       "       [1.77495989e-02, 9.82250401e-01],\n",
       "       [3.19877294e-01, 6.80122706e-01],\n",
       "       [9.98145855e-01, 1.85414487e-03],\n",
       "       [2.56254130e-01, 7.43745870e-01],\n",
       "       [3.82995593e-02, 9.61700441e-01],\n",
       "       [4.29024363e-01, 5.70975637e-01],\n",
       "       [1.03521996e-03, 9.98964780e-01],\n",
       "       [3.87517792e-01, 6.12482208e-01],\n",
       "       [4.31154382e-01, 5.68845618e-01],\n",
       "       [5.37023974e-01, 4.62976026e-01],\n",
       "       [3.86806840e-01, 6.13193160e-01],\n",
       "       [1.04147004e-01, 8.95852996e-01],\n",
       "       [3.16711192e-01, 6.83288808e-01],\n",
       "       [3.06281336e-01, 6.93718664e-01],\n",
       "       [2.24471707e-03, 9.97755283e-01],\n",
       "       [1.13015865e-01, 8.86984135e-01],\n",
       "       [8.50380877e-04, 9.99149619e-01],\n",
       "       [9.44814024e-01, 5.51859760e-02],\n",
       "       [9.80524810e-01, 1.94751897e-02],\n",
       "       [3.53411226e-01, 6.46588774e-01],\n",
       "       [9.49929464e-01, 5.00705359e-02],\n",
       "       [5.09968527e-01, 4.90031473e-01],\n",
       "       [4.09179815e-01, 5.90820185e-01],\n",
       "       [6.97607727e-01, 3.02392273e-01],\n",
       "       [6.74870368e-02, 9.32512963e-01],\n",
       "       [9.96439068e-01, 3.56093212e-03],\n",
       "       [9.95168873e-01, 4.83112736e-03],\n",
       "       [8.62131453e-01, 1.37868547e-01],\n",
       "       [5.36598970e-01, 4.63401030e-01],\n",
       "       [3.07656248e-01, 6.92343752e-01],\n",
       "       [1.17490060e-01, 8.82509940e-01],\n",
       "       [6.59915538e-01, 3.40084462e-01],\n",
       "       [1.99119420e-01, 8.00880580e-01],\n",
       "       [1.11847933e-01, 8.88152067e-01],\n",
       "       [2.42219882e-03, 9.97577801e-01],\n",
       "       [9.86356265e-01, 1.36437355e-02],\n",
       "       [9.82272126e-01, 1.77278741e-02],\n",
       "       [4.26407857e-01, 5.73592143e-01],\n",
       "       [9.64754938e-01, 3.52450624e-02],\n",
       "       [9.85043130e-01, 1.49568699e-02],\n",
       "       [5.43287634e-02, 9.45671237e-01],\n",
       "       [7.24340637e-01, 2.75659363e-01],\n",
       "       [6.32280693e-01, 3.67719307e-01],\n",
       "       [5.22183175e-03, 9.94778168e-01],\n",
       "       [2.36918489e-01, 7.63081511e-01],\n",
       "       [1.77770146e-01, 8.22229854e-01],\n",
       "       [6.68682952e-01, 3.31317048e-01],\n",
       "       [3.85127258e-01, 6.14872742e-01],\n",
       "       [9.10258876e-01, 8.97411237e-02],\n",
       "       [1.14802385e-01, 8.85197615e-01],\n",
       "       [1.41821548e-01, 8.58178452e-01],\n",
       "       [1.42865201e-01, 8.57134799e-01],\n",
       "       [7.05581786e-01, 2.94418214e-01],\n",
       "       [2.68993289e-01, 7.31006711e-01],\n",
       "       [9.92145614e-01, 7.85438608e-03],\n",
       "       [8.32932575e-01, 1.67067425e-01],\n",
       "       [9.68935570e-01, 3.10644305e-02],\n",
       "       [6.42513181e-03, 9.93574868e-01],\n",
       "       [2.07087087e-02, 9.79291291e-01],\n",
       "       [5.41655489e-01, 4.58344511e-01],\n",
       "       [1.43016067e-01, 8.56983933e-01],\n",
       "       [3.29890864e-01, 6.70109136e-01],\n",
       "       [4.14052763e-01, 5.85947237e-01],\n",
       "       [1.10104374e-01, 8.89895626e-01],\n",
       "       [9.72719261e-01, 2.72807389e-02],\n",
       "       [9.95281807e-01, 4.71819345e-03],\n",
       "       [8.32279482e-03, 9.91677205e-01],\n",
       "       [9.15303837e-01, 8.46961626e-02],\n",
       "       [3.15683927e-02, 9.68431607e-01],\n",
       "       [1.58508336e-02, 9.84149166e-01],\n",
       "       [9.78087896e-04, 9.99021912e-01],\n",
       "       [1.09058300e-01, 8.90941700e-01],\n",
       "       [6.89477279e-03, 9.93105227e-01],\n",
       "       [3.13088634e-01, 6.86911366e-01],\n",
       "       [1.71417260e-01, 8.28582740e-01],\n",
       "       [2.59540542e-02, 9.74045946e-01],\n",
       "       [3.02144373e-01, 6.97855627e-01],\n",
       "       [9.88881198e-01, 1.11188019e-02],\n",
       "       [3.19055019e-01, 6.80944981e-01],\n",
       "       [9.93857938e-01, 6.14206155e-03],\n",
       "       [1.38314321e-01, 8.61685679e-01],\n",
       "       [9.49949331e-01, 5.00506691e-02],\n",
       "       [1.90865637e-03, 9.98091344e-01],\n",
       "       [7.18187086e-02, 9.28181291e-01],\n",
       "       [9.46808434e-01, 5.31915659e-02],\n",
       "       [8.35628757e-01, 1.64371243e-01],\n",
       "       [2.98280984e-01, 7.01719016e-01],\n",
       "       [7.17501546e-01, 2.82498454e-01],\n",
       "       [2.87541341e-01, 7.12458659e-01],\n",
       "       [1.11725568e-01, 8.88274432e-01],\n",
       "       [5.49636039e-01, 4.50363961e-01],\n",
       "       [4.11872219e-01, 5.88127781e-01],\n",
       "       [9.79708961e-01, 2.02910389e-02],\n",
       "       [8.60761926e-02, 9.13923807e-01],\n",
       "       [1.16300004e-01, 8.83699996e-01],\n",
       "       [7.22363256e-01, 2.77636744e-01],\n",
       "       [8.61042070e-01, 1.38957930e-01],\n",
       "       [3.01319103e-01, 6.98680897e-01],\n",
       "       [7.60098711e-02, 9.23990129e-01],\n",
       "       [9.89073877e-01, 1.09261233e-02],\n",
       "       [7.33944441e-02, 9.26605556e-01],\n",
       "       [4.72500922e-01, 5.27499078e-01],\n",
       "       [2.43685391e-01, 7.56314609e-01],\n",
       "       [7.03238247e-01, 2.96761753e-01],\n",
       "       [1.39382643e-02, 9.86061736e-01],\n",
       "       [9.38651670e-01, 6.13483298e-02],\n",
       "       [1.71197748e-01, 8.28802252e-01],\n",
       "       [9.85440632e-01, 1.45593680e-02],\n",
       "       [6.77695781e-01, 3.22304219e-01],\n",
       "       [9.28905852e-01, 7.10941482e-02],\n",
       "       [9.16555204e-01, 8.34447962e-02],\n",
       "       [9.66892179e-01, 3.31078214e-02],\n",
       "       [2.94495458e-03, 9.97055045e-01],\n",
       "       [2.41176496e-03, 9.97588235e-01],\n",
       "       [9.08245730e-01, 9.17542696e-02],\n",
       "       [6.59513888e-01, 3.40486112e-01],\n",
       "       [9.99903344e-01, 9.66555936e-05],\n",
       "       [9.17026113e-01, 8.29738865e-02],\n",
       "       [9.95862189e-01, 4.13781128e-03],\n",
       "       [1.01368068e-02, 9.89863193e-01],\n",
       "       [1.91465124e-01, 8.08534876e-01],\n",
       "       [8.24609347e-02, 9.17539065e-01],\n",
       "       [3.19945869e-01, 6.80054131e-01],\n",
       "       [1.89985604e-01, 8.10014396e-01],\n",
       "       [9.98746142e-01, 1.25385761e-03],\n",
       "       [1.85619060e-01, 8.14380940e-01],\n",
       "       [2.88649976e-02, 9.71135002e-01],\n",
       "       [5.08967110e-01, 4.91032890e-01],\n",
       "       [5.32320889e-01, 4.67679111e-01],\n",
       "       [1.03336290e-01, 8.96663710e-01],\n",
       "       [1.46203390e-01, 8.53796610e-01],\n",
       "       [9.59996240e-02, 9.04000376e-01],\n",
       "       [3.26816106e-01, 6.73183894e-01],\n",
       "       [9.85484556e-01, 1.45154442e-02],\n",
       "       [5.56636018e-03, 9.94433640e-01],\n",
       "       [1.21950488e-01, 8.78049512e-01],\n",
       "       [2.60190450e-03, 9.97398096e-01],\n",
       "       [9.79716636e-01, 2.02833639e-02],\n",
       "       [6.73906225e-03, 9.93260938e-01],\n",
       "       [3.20861377e-02, 9.67913862e-01],\n",
       "       [6.35567962e-01, 3.64432038e-01],\n",
       "       [4.17168801e-01, 5.82831199e-01],\n",
       "       [1.09387491e-03, 9.98906125e-01],\n",
       "       [2.77768030e-02, 9.72223197e-01],\n",
       "       [5.35896062e-03, 9.94641039e-01],\n",
       "       [9.83122245e-01, 1.68777554e-02],\n",
       "       [9.58079910e-01, 4.19200896e-02],\n",
       "       [3.42770950e-02, 9.65722905e-01],\n",
       "       [3.59772838e-01, 6.40227162e-01],\n",
       "       [9.91479905e-01, 8.52009518e-03],\n",
       "       [9.31299088e-01, 6.87009122e-02],\n",
       "       [9.81670844e-01, 1.83291557e-02],\n",
       "       [1.74406052e-01, 8.25593948e-01],\n",
       "       [3.80327269e-02, 9.61967273e-01],\n",
       "       [9.96174153e-01, 3.82584691e-03],\n",
       "       [9.99918893e-01, 8.11072047e-05],\n",
       "       [9.76900726e-01, 2.30992739e-02],\n",
       "       [9.78244086e-03, 9.90217559e-01],\n",
       "       [4.27721135e-02, 9.57227886e-01],\n",
       "       [9.83908653e-01, 1.60913473e-02],\n",
       "       [6.81298670e-01, 3.18701330e-01],\n",
       "       [9.99307581e-01, 6.92418607e-04],\n",
       "       [6.74475403e-01, 3.25524597e-01],\n",
       "       [3.86930480e-01, 6.13069520e-01],\n",
       "       [8.37316809e-01, 1.62683191e-01],\n",
       "       [1.72003918e-01, 8.27996082e-01],\n",
       "       [9.99315209e-01, 6.84790987e-04],\n",
       "       [2.41605976e-01, 7.58394024e-01],\n",
       "       [5.38876833e-02, 9.46112317e-01],\n",
       "       [5.59633942e-01, 4.40366058e-01],\n",
       "       [2.81095728e-02, 9.71890427e-01],\n",
       "       [2.43536983e-01, 7.56463017e-01],\n",
       "       [1.50793337e-01, 8.49206663e-01],\n",
       "       [8.25687652e-01, 1.74312348e-01],\n",
       "       [3.43465625e-01, 6.56534375e-01],\n",
       "       [2.54029305e-01, 7.45970695e-01],\n",
       "       [9.88727430e-01, 1.12725700e-02],\n",
       "       [9.07115988e-01, 9.28840120e-02],\n",
       "       [6.25475935e-01, 3.74524065e-01],\n",
       "       [1.08295108e-01, 8.91704892e-01],\n",
       "       [5.12404726e-02, 9.48759527e-01],\n",
       "       [7.76019066e-01, 2.23980934e-01],\n",
       "       [2.84121015e-01, 7.15878985e-01],\n",
       "       [9.69115573e-01, 3.08844269e-02]])"
      ]
     },
     "execution_count": 8,
     "metadata": {},
     "output_type": "execute_result"
    }
   ],
   "source": [
    "y_pred_proba"
   ]
  },
  {
   "cell_type": "code",
   "execution_count": 9,
   "id": "6c421e69",
   "metadata": {},
   "outputs": [],
   "source": [
    "from sklearn.metrics import roc_curve\n",
    "fpr, tpr, _ = roc_curve(y_test, y_pred_proba[:, 1])"
   ]
  },
  {
   "cell_type": "code",
   "execution_count": 12,
   "id": "e10e683f",
   "metadata": {},
   "outputs": [
    {
     "data": {
      "image/png": "[encoded data removed]",
      "text/plain": [
       "<Figure size 640x480 with 1 Axes>"
      ]
     },
     "metadata": {},
     "output_type": "display_data"
    }
   ],
   "source": [
    "plt.plot([0, 1], [0, 1], linestyle='--')\n",
    "plt.plot(fpr, tpr, marker='.')\n",
    "plt.show()"
   ]
  },
  {
   "cell_type": "code",
   "execution_count": 13,
   "id": "1f9aaaea",
   "metadata": {},
   "outputs": [
    {
     "data": {
      "text/plain": [
       "0.9027724358974359"
      ]
     },
     "execution_count": 13,
     "metadata": {},
     "output_type": "execute_result"
    }
   ],
   "source": [
    "from sklearn.metrics import roc_auc_score\n",
    "roc_auc_score(y_test, y_pred_proba[:, 1])"
   ]
  },
  {
   "cell_type": "code",
   "execution_count": 14,
   "id": "ef150fac",
   "metadata": {},
   "outputs": [],
   "source": [
    "from sklearn.metrics import precision_recall_curve\n",
    "precision, recall, _ = precision_recall_curve(y_test, y_pred_proba[:, 1])"
   ]
  },
  {
   "cell_type": "code",
   "execution_count": 15,
   "id": "22fcb2ed",
   "metadata": {},
   "outputs": [
    {
     "data": {
      "text/plain": [
       "[<matplotlib.lines.Line2D at 0x28f6994e3f0>]"
      ]
     },
     "execution_count": 15,
     "metadata": {},
     "output_type": "execute_result"
    },
    {
     "data": {
      "image/png": "[encoded data removed]",
      "text/plain": [
       "<Figure size 640x480 with 1 Axes>"
      ]
     },
     "metadata": {},
     "output_type": "display_data"
    }
   ],
   "source": [
    "no_skill = len(y[y==1]) / len(y)\n",
    "plt.plot([0, 1], [no_skill, no_skill], linestyle='--')"
   ]
  },
  {
   "cell_type": "code",
   "execution_count": 17,
   "id": "6f85f1b6",
   "metadata": {},
   "outputs": [
    {
     "data": {
      "image/png": "[encoded data removed]",
      "text/plain": [
       "<Figure size 640x480 with 1 Axes>"
      ]
     },
     "metadata": {},
     "output_type": "display_data"
    }
   ],
   "source": [
    "plt.plot([0, 1], [no_skill, no_skill], linestyle='--')\n",
    "plt.plot(recall, precision, marker='.')\n",
    "plt.show()"
   ]
  },
  {
   "cell_type": "code",
   "execution_count": 18,
   "id": "03e6d318",
   "metadata": {},
   "outputs": [
    {
     "data": {
      "text/plain": [
       "0.897662372903334"
      ]
     },
     "execution_count": 18,
     "metadata": {},
     "output_type": "execute_result"
    }
   ],
   "source": [
    "from sklearn.metrics import auc\n",
    "auc(recall, precision)"
   ]
  },
  {
   "cell_type": "code",
   "execution_count": 19,
   "id": "fbc0b561",
   "metadata": {},
   "outputs": [
    {
     "name": "stdout",
     "output_type": "stream",
     "text": [
      "              precision    recall  f1-score   support\n",
      "\n",
      "           0       0.83      0.82      0.83       240\n",
      "           1       0.84      0.85      0.84       260\n",
      "\n",
      "    accuracy                           0.83       500\n",
      "   macro avg       0.83      0.83      0.83       500\n",
      "weighted avg       0.83      0.83      0.83       500\n",
      "\n"
     ]
    }
   ],
   "source": [
    "from sklearn.metrics import classification_report\n",
    "y_test_pred = model.predict(X_test)\n",
    "print(classification_report(y_test, y_test_pred))"
   ]
  },
  {
   "cell_type": "code",
   "execution_count": 20,
   "id": "9d475ea8",
   "metadata": {},
   "outputs": [
    {
     "data": {
      "image/png": "[encoded data removed]",
      "text/plain": [
       "<Figure size 640x480 with 1 Axes>"
      ]
     },
     "metadata": {},
     "output_type": "display_data"
    }
   ],
   "source": [
    "from sklearn.neighbors import KNeighborsClassifier\n",
    "model2 = KNeighborsClassifier(n_neighbors=250).fit(X_train, y_train)\n",
    "y_pred2_proba = model2.predict_proba(X_test)\n",
    "fpr, tpr, _ = roc_curve(y_test, y_pred2_proba[:, 1])\n",
    "\n",
    "plt.plot([0, 1], [0, 1], linestyle='--')\n",
    "plt.plot(fpr, tpr, marker='.')\n",
    "plt.show()"
   ]
  },
  {
   "cell_type": "code",
   "execution_count": 21,
   "id": "7c9f7bc6",
   "metadata": {},
   "outputs": [
    {
     "data": {
      "text/plain": [
       "0.8630608974358974"
      ]
     },
     "execution_count": 21,
     "metadata": {},
     "output_type": "execute_result"
    }
   ],
   "source": [
    "roc_auc_score(y_test, y_pred2_proba[:, 1])"
   ]
  },
  {
   "cell_type": "code",
   "execution_count": 22,
   "id": "61b3693e",
   "metadata": {},
   "outputs": [],
   "source": [
    "X, y = make_classification(n_samples=1000, n_classes=2, weights=[0.99, 0.01], random_state=1)"
   ]
  },
  {
   "cell_type": "code",
   "execution_count": 23,
   "id": "3ec827a8",
   "metadata": {},
   "outputs": [
    {
     "name": "stdout",
     "output_type": "stream",
     "text": [
      "Датасет: Class0=985, Class1=15\n",
      "Обучающая: Class0=490, Class1=10\n",
      "Тестовая: Class0=495, Class1=5\n"
     ]
    }
   ],
   "source": [
    "X_train, X_test, y_train, y_test = train_test_split(X, y, test_size=0.5, random_state=4)\n",
    "\n",
    "print('Датасет: Class0=%d, Class1=%d' % (len(y[y==0]), len(y[y==1])))\n",
    "print('Обучающая: Class0=%d, Class1=%d' % (len(y_train[y_train==0]), len(y_train[y_train==1])))\n",
    "print('Тестовая: Class0=%d, Class1=%d' % (len(y_test[y_test==0]), len(y_test[y_test==1])))"
   ]
  },
  {
   "cell_type": "code",
   "execution_count": 24,
   "id": "4005e6f0",
   "metadata": {},
   "outputs": [],
   "source": [
    "X_train, X_test, y_train, y_test = train_test_split(X, y, test_size=0.5, stratify=y)"
   ]
  },
  {
   "cell_type": "code",
   "execution_count": 25,
   "id": "1bd95bb6",
   "metadata": {},
   "outputs": [],
   "source": [
    "model = LogisticRegression().fit(X_train, y_train)\n",
    "y_pred_proba = model.predict_proba(X_test)"
   ]
  },
  {
   "cell_type": "code",
   "execution_count": 26,
   "id": "13e6aa2b",
   "metadata": {},
   "outputs": [
    {
     "name": "stdout",
     "output_type": "stream",
     "text": [
      "              precision    recall  f1-score   support\n",
      "\n",
      "           0       0.98      1.00      0.99       492\n",
      "           1       0.00      0.00      0.00         8\n",
      "\n",
      "    accuracy                           0.98       500\n",
      "   macro avg       0.49      0.50      0.50       500\n",
      "weighted avg       0.97      0.98      0.98       500\n",
      "\n"
     ]
    },
    {
     "name": "stderr",
     "output_type": "stream",
     "text": [
      "c:\\Users\\Sofia\\anaconda3\\Lib\\site-packages\\sklearn\\metrics\\_classification.py:1509: UndefinedMetricWarning: Precision is ill-defined and being set to 0.0 in labels with no predicted samples. Use `zero_division` parameter to control this behavior.\n",
      "  _warn_prf(average, modifier, f\"{metric.capitalize()} is\", len(result))\n",
      "c:\\Users\\Sofia\\anaconda3\\Lib\\site-packages\\sklearn\\metrics\\_classification.py:1509: UndefinedMetricWarning: Precision is ill-defined and being set to 0.0 in labels with no predicted samples. Use `zero_division` parameter to control this behavior.\n",
      "  _warn_prf(average, modifier, f\"{metric.capitalize()} is\", len(result))\n",
      "c:\\Users\\Sofia\\anaconda3\\Lib\\site-packages\\sklearn\\metrics\\_classification.py:1509: UndefinedMetricWarning: Precision is ill-defined and being set to 0.0 in labels with no predicted samples. Use `zero_division` parameter to control this behavior.\n",
      "  _warn_prf(average, modifier, f\"{metric.capitalize()} is\", len(result))\n"
     ]
    }
   ],
   "source": [
    "y_test_pred = model.predict(X_test)\n",
    "print(classification_report(y_test, y_test_pred))"
   ]
  },
  {
   "cell_type": "code",
   "execution_count": 27,
   "id": "5707b7ae",
   "metadata": {},
   "outputs": [
    {
     "data": {
      "image/png": "[encoded data removed]",
      "text/plain": [
       "<Figure size 640x480 with 1 Axes>"
      ]
     },
     "metadata": {},
     "output_type": "display_data"
    }
   ],
   "source": [
    "fpr, tpr, _ = roc_curve(y_test, y_pred_proba[:, 1])\n",
    "\n",
    "plt.plot([0, 1], [0, 1], linestyle='--')\n",
    "plt.plot(fpr, tpr, marker='.')\n",
    "plt.show()"
   ]
  },
  {
   "cell_type": "code",
   "execution_count": 28,
   "id": "3d6a4dbb",
   "metadata": {},
   "outputs": [
    {
     "data": {
      "image/png": "[encoded data removed]",
      "text/plain": [
       "<Figure size 640x480 with 1 Axes>"
      ]
     },
     "metadata": {},
     "output_type": "display_data"
    }
   ],
   "source": [
    "precision, recall, _ = precision_recall_curve(y_test, y_pred_proba[:, 1])\n",
    "no_skill = len(y[y==1]) / len(y)\n",
    "plt.plot([0, 1], [no_skill, no_skill], linestyle='--')\n",
    "plt.plot(recall, precision, marker='.')\n",
    "plt.show()"
   ]
  },
  {
   "cell_type": "code",
   "execution_count": 29,
   "id": "a553307f",
   "metadata": {},
   "outputs": [],
   "source": [
    "X, y = make_classification(n_samples=10000, n_classes=2, weights=[0.99, 0.01], random_state=1)\n",
    "X_train, X_test, y_train, y_test = train_test_split(X, y, test_size=0.5, stratify=y)\n",
    "\n",
    "model = LogisticRegression().fit(X_train, y_train)\n",
    "y_pred_proba = model.predict_proba(X_test)"
   ]
  },
  {
   "cell_type": "code",
   "execution_count": 30,
   "id": "dd59d41e",
   "metadata": {},
   "outputs": [
    {
     "data": {
      "image/png": "[encoded data removed]",
      "text/plain": [
       "<Figure size 640x480 with 1 Axes>"
      ]
     },
     "metadata": {},
     "output_type": "display_data"
    }
   ],
   "source": [
    "p, r, pr_thresholds = precision_recall_curve(y_test, y_pred_proba[:, 1])\n",
    "no_skill = len(y[y==1]) / len(y)\n",
    "plt.plot([0, 1], [no_skill, no_skill], linestyle='--')\n",
    "plt.plot(r, p, marker='.')\n",
    "plt.show()"
   ]
  },
  {
   "cell_type": "code",
   "execution_count": 31,
   "id": "bb353d7b",
   "metadata": {},
   "outputs": [],
   "source": [
    "from numpy import argmax"
   ]
  },
  {
   "cell_type": "code",
   "execution_count": 32,
   "id": "b15be09e",
   "metadata": {},
   "outputs": [
    {
     "data": {
      "text/plain": [
       "0.1945925673079889"
      ]
     },
     "execution_count": 32,
     "metadata": {},
     "output_type": "execute_result"
    }
   ],
   "source": [
    "f1 = (2 * p * r) / (p + r)\n",
    "ix = argmax(f1)\n",
    "pr_thresholds[ix]"
   ]
  },
  {
   "cell_type": "code",
   "execution_count": 33,
   "id": "0c398e4f",
   "metadata": {},
   "outputs": [
    {
     "name": "stdout",
     "output_type": "stream",
     "text": [
      "Порог=0.194593, F-Score=0.384\n"
     ]
    }
   ],
   "source": [
    "print('Порог=%f, F-Score=%.3f' % (pr_thresholds[ix], f1[ix]))"
   ]
  },
  {
   "cell_type": "code",
   "execution_count": 34,
   "id": "c77689d9",
   "metadata": {},
   "outputs": [
    {
     "data": {
      "image/png": "[encoded data removed]",
      "text/plain": [
       "<Figure size 640x480 with 1 Axes>"
      ]
     },
     "metadata": {},
     "output_type": "display_data"
    }
   ],
   "source": [
    "plt.plot([0, 1], [no_skill, no_skill], linestyle='--')\n",
    "plt.plot(r, p, marker='.')\n",
    "plt.scatter(r[ix], p[ix], marker='o', color='black')\n",
    "plt.show()"
   ]
  },
  {
   "cell_type": "code",
   "execution_count": 35,
   "id": "0d75c1cc",
   "metadata": {},
   "outputs": [],
   "source": [
    "y_pred = (y_pred_proba[:, 1] > pr_thresholds[ix]).astype('int')"
   ]
  },
  {
   "cell_type": "code",
   "execution_count": 36,
   "id": "7ea38d25",
   "metadata": {},
   "outputs": [
    {
     "name": "stdout",
     "output_type": "stream",
     "text": [
      "              precision    recall  f1-score   support\n",
      "\n",
      "           0       0.99      1.00      0.99      4920\n",
      "           1       0.52      0.29      0.37        80\n",
      "\n",
      "    accuracy                           0.98      5000\n",
      "   macro avg       0.76      0.64      0.68      5000\n",
      "weighted avg       0.98      0.98      0.98      5000\n",
      "\n"
     ]
    }
   ],
   "source": [
    "print(classification_report(y_test, y_pred))"
   ]
  },
  {
   "cell_type": "code",
   "execution_count": null,
   "id": "2a6bee38",
   "metadata": {},
   "outputs": [
    {
     "name": "stdout",
     "output_type": "stream",
     "text": [
      "              precision    recall  f1-score   support\n",
      "\n",
      "           0       0.99      1.00      0.99      4920\n",
      "           1       0.90      0.11      0.20        80\n",
      "\n",
      "    accuracy                           0.99      5000\n",
      "   macro avg       0.94      0.56      0.60      5000\n",
      "weighted avg       0.98      0.99      0.98      5000\n",
      "\n"
     ]
    },
    {
     "ename": "",
     "evalue": "",
     "output_type": "error",
     "traceback": [
      "\u001b[1;31mThe Kernel crashed while executing code in the current cell or a previous cell. \n",
      "\u001b[1;31mPlease review the code in the cell(s) to identify a possible cause of the failure. \n",
      "\u001b[1;31mClick <a href='https://aka.ms/vscodeJupyterKernelCrash'>here</a> for more info. \n",
      "\u001b[1;31mView Jupyter <a href='command:jupyter.viewOutput'>log</a> for further details."
     ]
    }
   ],
   "source": [
    "y_pred = model.predict(X_test)\n",
    "print(classification_report(y_test, y_pred))"
   ]
  },
  {
   "cell_type": "code",
   "execution_count": null,
   "id": "17a0154c",
   "metadata": {},
   "outputs": [],
   "source": []
  }
 ],
 "metadata": {
  "kernelspec": {
   "display_name": "base",
   "language": "python",
   "name": "python3"
  },
  "language_info": {
   "codemirror_mode": {
    "name": "ipython",
    "version": 3
   },
   "file_extension": ".py",
   "mimetype": "text/x-python",
   "name": "python",
   "nbconvert_exporter": "python",
   "pygments_lexer": "ipython3",
   "version": "3.12.4"
  }
 },
 "nbformat": 4,
 "nbformat_minor": 5
}
