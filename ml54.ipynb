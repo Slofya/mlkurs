{
 "cells": [
  {
   "cell_type": "markdown",
   "id": "6236a6eb",
   "metadata": {},
   "source": [
    "### Работа с целевой переменной  \n",
    "#### Цель работы  \n",
    "Познакомиться с основными приемами обработки данных в отношении к целевой переменной: дискретизация, отбор признаков, устранение дисбаланса классов.  \n",
    "\n",
    "#### Содержание работы  \n",
    "Загрузите первый датасет для регрессии и познакомьтесь с его структурой.  \n",
    "Постройте простую модель регрессии и оцените ее качество.  \n",
    "Отберите признаки, наиболее сильно влияющие на значение целевой переменной.  \n",
    "Постройте модель на оставшихся данных и оцените ее качество.  \n",
    "Загрузите второй датасет для регрессии и постройте распределение целевой переменной.  \n",
    "Сгруппируйте значения целевой переменной в категории. Постройте получившееся распределение.  \n",
    "Загрузите датасет для классификации. Постройте распределение целевой переменной.  \n",
    "Разделите датасет на тестовую и обучающую выборки, постройте и оцените baseline модель классификации.  \n",
    "Постройте ту же модель с применением весов классов. Сравните ее качество, сделайте выводы.  \n",
    "Выравняйте распределение классов путем оверсемплинга с повторением  "
   ]
  },
  {
   "cell_type": "code",
   "execution_count": 1,
   "id": "36324434",
   "metadata": {},
   "outputs": [],
   "source": [
    "import numpy as np\n",
    "import pandas as pd\n",
    "import matplotlib.pyplot as plt\n",
    "from sklearn.datasets import make_blobs, make_classification\n",
    "from sklearn.model_selection import train_test_split"
   ]
  },
  {
   "cell_type": "code",
   "execution_count": 2,
   "id": "0c389b81",
   "metadata": {},
   "outputs": [],
   "source": [
    "from sklearn.datasets import fetch_openml"
   ]
  },
  {
   "cell_type": "code",
   "execution_count": 3,
   "id": "13465d23",
   "metadata": {},
   "outputs": [
    {
     "data": {
      "text/html": [
       "<div>\n",
       "<style scoped>\n",
       "    .dataframe tbody tr th:only-of-type {\n",
       "        vertical-align: middle;\n",
       "    }\n",
       "\n",
       "    .dataframe tbody tr th {\n",
       "        vertical-align: top;\n",
       "    }\n",
       "\n",
       "    .dataframe thead th {\n",
       "        text-align: right;\n",
       "    }\n",
       "</style>\n",
       "<table border=\"1\" class=\"dataframe\">\n",
       "  <thead>\n",
       "    <tr style=\"text-align: right;\">\n",
       "      <th></th>\n",
       "      <th>oz1</th>\n",
       "      <th>oz2</th>\n",
       "      <th>oz3</th>\n",
       "      <th>oz4</th>\n",
       "      <th>oz5</th>\n",
       "      <th>oz6</th>\n",
       "      <th>oz7</th>\n",
       "      <th>oz8</th>\n",
       "      <th>oz9</th>\n",
       "      <th>oz10</th>\n",
       "      <th>...</th>\n",
       "      <th>oz193</th>\n",
       "      <th>oz194</th>\n",
       "      <th>oz195</th>\n",
       "      <th>oz196</th>\n",
       "      <th>oz197</th>\n",
       "      <th>oz198</th>\n",
       "      <th>oz199</th>\n",
       "      <th>oz200</th>\n",
       "      <th>oz201</th>\n",
       "      <th>oz202</th>\n",
       "    </tr>\n",
       "  </thead>\n",
       "  <tbody>\n",
       "    <tr>\n",
       "      <th>0</th>\n",
       "      <td>0.076923</td>\n",
       "      <td>0.325000</td>\n",
       "      <td>0.035088</td>\n",
       "      <td>0.200000</td>\n",
       "      <td>0.162112</td>\n",
       "      <td>0.194562</td>\n",
       "      <td>0.003900</td>\n",
       "      <td>0.060606</td>\n",
       "      <td>0.166667</td>\n",
       "      <td>0.045872</td>\n",
       "      <td>...</td>\n",
       "      <td>0.013874</td>\n",
       "      <td>0.071602</td>\n",
       "      <td>0.056880</td>\n",
       "      <td>0.179132</td>\n",
       "      <td>0.505899</td>\n",
       "      <td>0.039213</td>\n",
       "      <td>0.091327</td>\n",
       "      <td>0.321109</td>\n",
       "      <td>0.127564</td>\n",
       "      <td>0.188387</td>\n",
       "    </tr>\n",
       "    <tr>\n",
       "      <th>1</th>\n",
       "      <td>0.230769</td>\n",
       "      <td>0.375000</td>\n",
       "      <td>0.042105</td>\n",
       "      <td>0.333333</td>\n",
       "      <td>0.464191</td>\n",
       "      <td>0.622795</td>\n",
       "      <td>0.077623</td>\n",
       "      <td>0.373737</td>\n",
       "      <td>0.305556</td>\n",
       "      <td>0.192661</td>\n",
       "      <td>...</td>\n",
       "      <td>0.006342</td>\n",
       "      <td>0.186056</td>\n",
       "      <td>0.287438</td>\n",
       "      <td>0.384236</td>\n",
       "      <td>0.683820</td>\n",
       "      <td>0.326584</td>\n",
       "      <td>0.117990</td>\n",
       "      <td>0.456665</td>\n",
       "      <td>0.475618</td>\n",
       "      <td>0.401935</td>\n",
       "    </tr>\n",
       "    <tr>\n",
       "      <th>2</th>\n",
       "      <td>0.269231</td>\n",
       "      <td>0.437500</td>\n",
       "      <td>0.052632</td>\n",
       "      <td>0.333333</td>\n",
       "      <td>0.506556</td>\n",
       "      <td>0.531840</td>\n",
       "      <td>0.054374</td>\n",
       "      <td>0.212121</td>\n",
       "      <td>0.333333</td>\n",
       "      <td>0.229358</td>\n",
       "      <td>...</td>\n",
       "      <td>0.005018</td>\n",
       "      <td>0.179544</td>\n",
       "      <td>0.117431</td>\n",
       "      <td>0.384550</td>\n",
       "      <td>0.499219</td>\n",
       "      <td>0.204885</td>\n",
       "      <td>0.155967</td>\n",
       "      <td>0.360441</td>\n",
       "      <td>0.497968</td>\n",
       "      <td>0.407742</td>\n",
       "    </tr>\n",
       "    <tr>\n",
       "      <th>3</th>\n",
       "      <td>0.153846</td>\n",
       "      <td>0.357143</td>\n",
       "      <td>0.039474</td>\n",
       "      <td>0.266667</td>\n",
       "      <td>0.352880</td>\n",
       "      <td>0.394131</td>\n",
       "      <td>0.019654</td>\n",
       "      <td>0.171717</td>\n",
       "      <td>0.277778</td>\n",
       "      <td>0.091743</td>\n",
       "      <td>...</td>\n",
       "      <td>0.004801</td>\n",
       "      <td>0.091771</td>\n",
       "      <td>0.145349</td>\n",
       "      <td>0.243064</td>\n",
       "      <td>0.630533</td>\n",
       "      <td>0.023469</td>\n",
       "      <td>0.124430</td>\n",
       "      <td>0.336023</td>\n",
       "      <td>0.134458</td>\n",
       "      <td>0.252258</td>\n",
       "    </tr>\n",
       "    <tr>\n",
       "      <th>4</th>\n",
       "      <td>0.153846</td>\n",
       "      <td>0.357143</td>\n",
       "      <td>0.039474</td>\n",
       "      <td>0.266667</td>\n",
       "      <td>0.350523</td>\n",
       "      <td>0.320546</td>\n",
       "      <td>0.013154</td>\n",
       "      <td>0.101010</td>\n",
       "      <td>0.166667</td>\n",
       "      <td>0.110092</td>\n",
       "      <td>...</td>\n",
       "      <td>0.011166</td>\n",
       "      <td>0.130755</td>\n",
       "      <td>0.067583</td>\n",
       "      <td>0.250832</td>\n",
       "      <td>0.516053</td>\n",
       "      <td>0.111398</td>\n",
       "      <td>0.125693</td>\n",
       "      <td>0.332113</td>\n",
       "      <td>0.295913</td>\n",
       "      <td>0.253548</td>\n",
       "    </tr>\n",
       "  </tbody>\n",
       "</table>\n",
       "<p>5 rows × 202 columns</p>\n",
       "</div>"
      ],
      "text/plain": [
       "        oz1       oz2       oz3       oz4       oz5       oz6       oz7  \\\n",
       "0  0.076923  0.325000  0.035088  0.200000  0.162112  0.194562  0.003900   \n",
       "1  0.230769  0.375000  0.042105  0.333333  0.464191  0.622795  0.077623   \n",
       "2  0.269231  0.437500  0.052632  0.333333  0.506556  0.531840  0.054374   \n",
       "3  0.153846  0.357143  0.039474  0.266667  0.352880  0.394131  0.019654   \n",
       "4  0.153846  0.357143  0.039474  0.266667  0.350523  0.320546  0.013154   \n",
       "\n",
       "        oz8       oz9      oz10  ...     oz193     oz194     oz195     oz196  \\\n",
       "0  0.060606  0.166667  0.045872  ...  0.013874  0.071602  0.056880  0.179132   \n",
       "1  0.373737  0.305556  0.192661  ...  0.006342  0.186056  0.287438  0.384236   \n",
       "2  0.212121  0.333333  0.229358  ...  0.005018  0.179544  0.117431  0.384550   \n",
       "3  0.171717  0.277778  0.091743  ...  0.004801  0.091771  0.145349  0.243064   \n",
       "4  0.101010  0.166667  0.110092  ...  0.011166  0.130755  0.067583  0.250832   \n",
       "\n",
       "      oz197     oz198     oz199     oz200     oz201     oz202  \n",
       "0  0.505899  0.039213  0.091327  0.321109  0.127564  0.188387  \n",
       "1  0.683820  0.326584  0.117990  0.456665  0.475618  0.401935  \n",
       "2  0.499219  0.204885  0.155967  0.360441  0.497968  0.407742  \n",
       "3  0.630533  0.023469  0.124430  0.336023  0.134458  0.252258  \n",
       "4  0.516053  0.111398  0.125693  0.332113  0.295913  0.253548  \n",
       "\n",
       "[5 rows x 202 columns]"
      ]
     },
     "execution_count": 3,
     "metadata": {},
     "output_type": "execute_result"
    }
   ],
   "source": [
    "df = fetch_openml(\"mtp\", version=1)\n",
    "\n",
    "df.data.head()"
   ]
  },
  {
   "cell_type": "code",
   "execution_count": 4,
   "id": "56b355ae",
   "metadata": {},
   "outputs": [
    {
     "data": {
      "image/png": "[encoded data removed]",
      "text/plain": [
       "<Figure size 640x480 with 1 Axes>"
      ]
     },
     "metadata": {},
     "output_type": "display_data"
    }
   ],
   "source": [
    "plt.hist(df.target, 100)\n",
    "_ = plt.plot()"
   ]
  },
  {
   "cell_type": "code",
   "execution_count": 5,
   "id": "07f418c5",
   "metadata": {},
   "outputs": [],
   "source": [
    "from sklearn.model_selection import train_test_split\n",
    "X_train, X_test, y_train, y_test = train_test_split(df.data, df.target, test_size=0.25, random_state=42)"
   ]
  },
  {
   "cell_type": "code",
   "execution_count": 6,
   "id": "99e740f8",
   "metadata": {},
   "outputs": [
    {
     "data": {
      "text/plain": [
       "-1.6511340769823937"
      ]
     },
     "execution_count": 6,
     "metadata": {},
     "output_type": "execute_result"
    }
   ],
   "source": [
    "from sklearn.linear_model import LinearRegression\n",
    "baseline = LinearRegression()\n",
    "baseline.fit(X_train, y_train)\n",
    "bl_score = baseline.score(X_test, y_test)\n",
    "bl_score"
   ]
  },
  {
   "cell_type": "code",
   "execution_count": 12,
   "id": "4429d73f",
   "metadata": {},
   "outputs": [
    {
     "data": {
      "image/png": "[encoded data removed]",
      "text/plain": [
       "<Figure size 640x480 with 1 Axes>"
      ]
     },
     "metadata": {},
     "output_type": "display_data"
    }
   ],
   "source": [
    "y_pred = baseline.predict(X_test)\n",
    "\n",
    "plt.scatter(y_test, y_test, color='blue', label='Фактические значения')\n",
    "\n",
    "plt.plot(y_pred, y_pred, color='red', linewidth=2, label='Линия регрессии')\n",
    "\n",
    "\n",
    "plt.show()"
   ]
  },
  {
   "cell_type": "code",
   "execution_count": 13,
   "id": "40dcbdd1",
   "metadata": {},
   "outputs": [],
   "source": [
    "from sklearn.ensemble import RandomForestRegressor\n",
    "rf = RandomForestRegressor(n_estimators=15).fit(X_train, y_train)"
   ]
  },
  {
   "cell_type": "code",
   "execution_count": 14,
   "id": "983dfdd1",
   "metadata": {},
   "outputs": [
    {
     "data": {
      "text/plain": [
       "Text(0.5, 0, 'Feature Importance')"
      ]
     },
     "execution_count": 14,
     "metadata": {},
     "output_type": "execute_result"
    },
    {
     "data": {
      "image/png": "[encoded data removed]",
      "text/plain": [
       "<Figure size 640x480 with 1 Axes>"
      ]
     },
     "metadata": {},
     "output_type": "display_data"
    }
   ],
   "source": [
    "sort = rf.feature_importances_.argsort()\n",
    "plt.barh(df.data.columns[sort], rf.feature_importances_[sort])\n",
    "plt.xlabel(\"Feature Importance\")"
   ]
  },
  {
   "cell_type": "code",
   "execution_count": 15,
   "id": "8bfa4f68",
   "metadata": {},
   "outputs": [
    {
     "data": {
      "text/plain": [
       "array([0.01252633, 0.01344159, 0.01395542, 0.01472619, 0.02011126,\n",
       "       0.02912685, 0.03293003, 0.05017979, 0.05805772, 0.14108686])"
      ]
     },
     "execution_count": 15,
     "metadata": {},
     "output_type": "execute_result"
    }
   ],
   "source": [
    "rf.feature_importances_[sort][-10:]"
   ]
  },
  {
   "cell_type": "code",
   "execution_count": 16,
   "id": "a0f7fb3d",
   "metadata": {},
   "outputs": [
    {
     "data": {
      "text/plain": [
       "Index(['oz201', 'oz20', 'oz155', 'oz112', 'oz137', 'oz18', 'oz35', 'oz48',\n",
       "       'oz15', 'oz141'],\n",
       "      dtype='object')"
      ]
     },
     "execution_count": 16,
     "metadata": {},
     "output_type": "execute_result"
    }
   ],
   "source": [
    "df.data.columns[sort][-10:]"
   ]
  },
  {
   "cell_type": "code",
   "execution_count": 17,
   "id": "ebb0acde",
   "metadata": {},
   "outputs": [
    {
     "data": {
      "text/html": [
       "<div>\n",
       "<style scoped>\n",
       "    .dataframe tbody tr th:only-of-type {\n",
       "        vertical-align: middle;\n",
       "    }\n",
       "\n",
       "    .dataframe tbody tr th {\n",
       "        vertical-align: top;\n",
       "    }\n",
       "\n",
       "    .dataframe thead th {\n",
       "        text-align: right;\n",
       "    }\n",
       "</style>\n",
       "<table border=\"1\" class=\"dataframe\">\n",
       "  <thead>\n",
       "    <tr style=\"text-align: right;\">\n",
       "      <th></th>\n",
       "      <th>oz169</th>\n",
       "      <th>oz154</th>\n",
       "      <th>oz123</th>\n",
       "      <th>oz56</th>\n",
       "      <th>oz162</th>\n",
       "      <th>oz157</th>\n",
       "      <th>oz197</th>\n",
       "      <th>oz8</th>\n",
       "      <th>oz198</th>\n",
       "      <th>oz180</th>\n",
       "      <th>oz201</th>\n",
       "      <th>oz20</th>\n",
       "      <th>oz155</th>\n",
       "      <th>oz112</th>\n",
       "      <th>oz137</th>\n",
       "      <th>oz18</th>\n",
       "      <th>oz35</th>\n",
       "      <th>oz48</th>\n",
       "      <th>oz15</th>\n",
       "      <th>oz141</th>\n",
       "    </tr>\n",
       "  </thead>\n",
       "  <tbody>\n",
       "    <tr>\n",
       "      <th>0</th>\n",
       "      <td>0.352613</td>\n",
       "      <td>0.030205</td>\n",
       "      <td>0.035842</td>\n",
       "      <td>0.126277</td>\n",
       "      <td>0.319206</td>\n",
       "      <td>0.000000</td>\n",
       "      <td>0.505899</td>\n",
       "      <td>0.060606</td>\n",
       "      <td>0.039213</td>\n",
       "      <td>0.002655</td>\n",
       "      <td>0.127564</td>\n",
       "      <td>0.000000</td>\n",
       "      <td>0.752291</td>\n",
       "      <td>0.000000</td>\n",
       "      <td>0.000000</td>\n",
       "      <td>0.0625</td>\n",
       "      <td>0.0</td>\n",
       "      <td>0.312855</td>\n",
       "      <td>0.000000</td>\n",
       "      <td>0.041308</td>\n",
       "    </tr>\n",
       "    <tr>\n",
       "      <th>1</th>\n",
       "      <td>0.352625</td>\n",
       "      <td>0.016908</td>\n",
       "      <td>0.105006</td>\n",
       "      <td>0.422015</td>\n",
       "      <td>0.306084</td>\n",
       "      <td>0.000281</td>\n",
       "      <td>0.683820</td>\n",
       "      <td>0.373737</td>\n",
       "      <td>0.326584</td>\n",
       "      <td>0.002581</td>\n",
       "      <td>0.475618</td>\n",
       "      <td>0.242424</td>\n",
       "      <td>0.745984</td>\n",
       "      <td>0.222222</td>\n",
       "      <td>0.278945</td>\n",
       "      <td>0.0625</td>\n",
       "      <td>0.4</td>\n",
       "      <td>0.297041</td>\n",
       "      <td>0.282828</td>\n",
       "      <td>0.212274</td>\n",
       "    </tr>\n",
       "    <tr>\n",
       "      <th>2</th>\n",
       "      <td>0.352400</td>\n",
       "      <td>0.006922</td>\n",
       "      <td>0.048810</td>\n",
       "      <td>0.000000</td>\n",
       "      <td>0.406309</td>\n",
       "      <td>0.001852</td>\n",
       "      <td>0.499219</td>\n",
       "      <td>0.212121</td>\n",
       "      <td>0.204885</td>\n",
       "      <td>0.002722</td>\n",
       "      <td>0.497968</td>\n",
       "      <td>0.388889</td>\n",
       "      <td>0.753298</td>\n",
       "      <td>0.000000</td>\n",
       "      <td>0.000000</td>\n",
       "      <td>0.1250</td>\n",
       "      <td>0.0</td>\n",
       "      <td>0.288557</td>\n",
       "      <td>0.388889</td>\n",
       "      <td>0.063643</td>\n",
       "    </tr>\n",
       "    <tr>\n",
       "      <th>3</th>\n",
       "      <td>0.352497</td>\n",
       "      <td>0.001240</td>\n",
       "      <td>0.105778</td>\n",
       "      <td>0.000000</td>\n",
       "      <td>0.327848</td>\n",
       "      <td>0.000158</td>\n",
       "      <td>0.630533</td>\n",
       "      <td>0.171717</td>\n",
       "      <td>0.023469</td>\n",
       "      <td>0.002473</td>\n",
       "      <td>0.134458</td>\n",
       "      <td>0.095238</td>\n",
       "      <td>0.767469</td>\n",
       "      <td>0.000000</td>\n",
       "      <td>0.039437</td>\n",
       "      <td>0.0000</td>\n",
       "      <td>0.1</td>\n",
       "      <td>0.310692</td>\n",
       "      <td>0.111111</td>\n",
       "      <td>0.031193</td>\n",
       "    </tr>\n",
       "    <tr>\n",
       "      <th>4</th>\n",
       "      <td>0.352417</td>\n",
       "      <td>0.011829</td>\n",
       "      <td>0.048810</td>\n",
       "      <td>0.000000</td>\n",
       "      <td>0.329857</td>\n",
       "      <td>0.000037</td>\n",
       "      <td>0.516053</td>\n",
       "      <td>0.101010</td>\n",
       "      <td>0.111398</td>\n",
       "      <td>0.002810</td>\n",
       "      <td>0.295913</td>\n",
       "      <td>0.260870</td>\n",
       "      <td>0.741548</td>\n",
       "      <td>0.000000</td>\n",
       "      <td>0.000000</td>\n",
       "      <td>0.0625</td>\n",
       "      <td>0.0</td>\n",
       "      <td>0.286581</td>\n",
       "      <td>0.304348</td>\n",
       "      <td>0.063643</td>\n",
       "    </tr>\n",
       "  </tbody>\n",
       "</table>\n",
       "</div>"
      ],
      "text/plain": [
       "      oz169     oz154     oz123      oz56     oz162     oz157     oz197  \\\n",
       "0  0.352613  0.030205  0.035842  0.126277  0.319206  0.000000  0.505899   \n",
       "1  0.352625  0.016908  0.105006  0.422015  0.306084  0.000281  0.683820   \n",
       "2  0.352400  0.006922  0.048810  0.000000  0.406309  0.001852  0.499219   \n",
       "3  0.352497  0.001240  0.105778  0.000000  0.327848  0.000158  0.630533   \n",
       "4  0.352417  0.011829  0.048810  0.000000  0.329857  0.000037  0.516053   \n",
       "\n",
       "        oz8     oz198     oz180     oz201      oz20     oz155     oz112  \\\n",
       "0  0.060606  0.039213  0.002655  0.127564  0.000000  0.752291  0.000000   \n",
       "1  0.373737  0.326584  0.002581  0.475618  0.242424  0.745984  0.222222   \n",
       "2  0.212121  0.204885  0.002722  0.497968  0.388889  0.753298  0.000000   \n",
       "3  0.171717  0.023469  0.002473  0.134458  0.095238  0.767469  0.000000   \n",
       "4  0.101010  0.111398  0.002810  0.295913  0.260870  0.741548  0.000000   \n",
       "\n",
       "      oz137    oz18  oz35      oz48      oz15     oz141  \n",
       "0  0.000000  0.0625   0.0  0.312855  0.000000  0.041308  \n",
       "1  0.278945  0.0625   0.4  0.297041  0.282828  0.212274  \n",
       "2  0.000000  0.1250   0.0  0.288557  0.388889  0.063643  \n",
       "3  0.039437  0.0000   0.1  0.310692  0.111111  0.031193  \n",
       "4  0.000000  0.0625   0.0  0.286581  0.304348  0.063643  "
      ]
     },
     "execution_count": 17,
     "metadata": {},
     "output_type": "execute_result"
    }
   ],
   "source": [
    "trimmed = df.data[df.data.columns[sort][-20:]]\n",
    "trimmed.head()"
   ]
  },
  {
   "cell_type": "code",
   "execution_count": 18,
   "id": "72a20141",
   "metadata": {},
   "outputs": [
    {
     "name": "stdout",
     "output_type": "stream",
     "text": [
      "-1.6511340769823937\n"
     ]
    },
    {
     "data": {
      "text/plain": [
       "0.3874781135354437"
      ]
     },
     "execution_count": 18,
     "metadata": {},
     "output_type": "execute_result"
    }
   ],
   "source": [
    "X_train, X_test, y_train, y_test = train_test_split(trimmed, df.target, test_size=0.25, random_state=42)\n",
    "\n",
    "better = LinearRegression()\n",
    "better.fit(X_train, y_train)\n",
    "\n",
    "print(bl_score)\n",
    "better.score(X_test, y_test)"
   ]
  },
  {
   "cell_type": "code",
   "execution_count": 23,
   "id": "33430bbe",
   "metadata": {},
   "outputs": [
    {
     "data": {
      "image/png": "[encoded data removed]",
      "text/plain": [
       "<Figure size 640x480 with 1 Axes>"
      ]
     },
     "metadata": {},
     "output_type": "display_data"
    }
   ],
   "source": [
    "y_pred = better.predict(X_test)\n",
    "\n",
    "plt.scatter(y_test, y_test, color='blue', label='Фактические значения')\n",
    "\n",
    "plt.plot(y_pred, y_pred, color='red', linewidth=2, label='Линия регрессии')\n",
    "\n",
    "\n",
    "plt.show()"
   ]
  },
  {
   "cell_type": "code",
   "execution_count": 24,
   "id": "d3e62097",
   "metadata": {},
   "outputs": [
    {
     "data": {
      "text/plain": [
       "(4450, 61)"
      ]
     },
     "execution_count": 24,
     "metadata": {},
     "output_type": "execute_result"
    }
   ],
   "source": [
    "from sklearn.feature_selection import SelectFromModel\n",
    "\n",
    "sfm = SelectFromModel(RandomForestRegressor(n_estimators=15)).fit(df.data, df.target)\n",
    "X_trimmed = sfm.transform(df.data)\n",
    "X_trimmed.shape"
   ]
  },
  {
   "cell_type": "code",
   "execution_count": 25,
   "id": "eb45865b",
   "metadata": {},
   "outputs": [
    {
     "name": "stdout",
     "output_type": "stream",
     "text": [
      "-1.6511340769823937\n"
     ]
    },
    {
     "data": {
      "text/plain": [
       "0.44070427444295546"
      ]
     },
     "execution_count": 25,
     "metadata": {},
     "output_type": "execute_result"
    }
   ],
   "source": [
    "X_train, X_test, y_train, y_test = train_test_split(X_trimmed, df.target, test_size=0.25, random_state=42)\n",
    "\n",
    "better = LinearRegression()\n",
    "better.fit(X_train, y_train)\n",
    "\n",
    "print(bl_score)\n",
    "better.score(X_test, y_test)"
   ]
  },
  {
   "cell_type": "code",
   "execution_count": 26,
   "id": "1a511191",
   "metadata": {},
   "outputs": [
    {
     "data": {
      "text/html": [
       "<div>\n",
       "<style scoped>\n",
       "    .dataframe tbody tr th:only-of-type {\n",
       "        vertical-align: middle;\n",
       "    }\n",
       "\n",
       "    .dataframe tbody tr th {\n",
       "        vertical-align: top;\n",
       "    }\n",
       "\n",
       "    .dataframe thead th {\n",
       "        text-align: right;\n",
       "    }\n",
       "</style>\n",
       "<table border=\"1\" class=\"dataframe\">\n",
       "  <thead>\n",
       "    <tr style=\"text-align: right;\">\n",
       "      <th></th>\n",
       "      <th>left-weight</th>\n",
       "      <th>left-distance</th>\n",
       "      <th>right-weight</th>\n",
       "      <th>right-distance</th>\n",
       "    </tr>\n",
       "  </thead>\n",
       "  <tbody>\n",
       "    <tr>\n",
       "      <th>0</th>\n",
       "      <td>1</td>\n",
       "      <td>1</td>\n",
       "      <td>1</td>\n",
       "      <td>1</td>\n",
       "    </tr>\n",
       "    <tr>\n",
       "      <th>1</th>\n",
       "      <td>1</td>\n",
       "      <td>1</td>\n",
       "      <td>1</td>\n",
       "      <td>2</td>\n",
       "    </tr>\n",
       "    <tr>\n",
       "      <th>2</th>\n",
       "      <td>1</td>\n",
       "      <td>1</td>\n",
       "      <td>1</td>\n",
       "      <td>3</td>\n",
       "    </tr>\n",
       "    <tr>\n",
       "      <th>3</th>\n",
       "      <td>1</td>\n",
       "      <td>1</td>\n",
       "      <td>1</td>\n",
       "      <td>4</td>\n",
       "    </tr>\n",
       "    <tr>\n",
       "      <th>4</th>\n",
       "      <td>1</td>\n",
       "      <td>1</td>\n",
       "      <td>1</td>\n",
       "      <td>5</td>\n",
       "    </tr>\n",
       "  </tbody>\n",
       "</table>\n",
       "</div>"
      ],
      "text/plain": [
       "   left-weight  left-distance  right-weight  right-distance\n",
       "0            1              1             1               1\n",
       "1            1              1             1               2\n",
       "2            1              1             1               3\n",
       "3            1              1             1               4\n",
       "4            1              1             1               5"
      ]
     },
     "execution_count": 26,
     "metadata": {},
     "output_type": "execute_result"
    }
   ],
   "source": [
    "df = fetch_openml(\"balance-scale\", version=1)\n",
    "\n",
    "df.data.head()"
   ]
  },
  {
   "cell_type": "code",
   "execution_count": 27,
   "id": "f58d7da9",
   "metadata": {},
   "outputs": [
    {
     "data": {
      "text/plain": [
       "(array([ 49.,   0.,   0.,   0.,   0., 288.,   0.,   0.,   0., 288.]),\n",
       " array([0. , 0.2, 0.4, 0.6, 0.8, 1. , 1.2, 1.4, 1.6, 1.8, 2. ]),\n",
       " <BarContainer object of 10 artists>)"
      ]
     },
     "execution_count": 27,
     "metadata": {},
     "output_type": "execute_result"
    },
    {
     "data": {
      "image/png": "[encoded data removed]",
      "text/plain": [
       "<Figure size 640x480 with 1 Axes>"
      ]
     },
     "metadata": {},
     "output_type": "display_data"
    }
   ],
   "source": [
    "plt.hist(df.target)"
   ]
  },
  {
   "cell_type": "code",
   "execution_count": 28,
   "id": "0789860a",
   "metadata": {},
   "outputs": [],
   "source": [
    "X_train, X_test, y_train, y_test = train_test_split(df.data, df.target, test_size=0.25, random_state=42, stratify=df.target)"
   ]
  },
  {
   "cell_type": "code",
   "execution_count": 29,
   "id": "8925b930",
   "metadata": {},
   "outputs": [
    {
     "data": {
      "text/plain": [
       "0.8598726114649682"
      ]
     },
     "execution_count": 29,
     "metadata": {},
     "output_type": "execute_result"
    }
   ],
   "source": [
    "from sklearn.linear_model import LogisticRegression\n",
    "baseline = LogisticRegression()\n",
    "baseline.fit(X_train, y_train)\n",
    "bl_score = baseline.score(X_test, y_test)\n",
    "bl_score"
   ]
  },
  {
   "cell_type": "code",
   "execution_count": 30,
   "id": "af4cc61b",
   "metadata": {},
   "outputs": [
    {
     "name": "stdout",
     "output_type": "stream",
     "text": [
      "              precision    recall  f1-score   support\n",
      "\n",
      "           B       0.00      0.00      0.00        12\n",
      "           L       0.87      0.92      0.89        73\n",
      "           R       0.86      0.94      0.90        72\n",
      "\n",
      "    accuracy                           0.86       157\n",
      "   macro avg       0.58      0.62      0.60       157\n",
      "weighted avg       0.80      0.86      0.83       157\n",
      "\n"
     ]
    }
   ],
   "source": [
    "from sklearn.metrics import classification_report, confusion_matrix\n",
    "\n",
    "print(classification_report(y_test, baseline.predict(X_test)))"
   ]
  },
  {
   "cell_type": "code",
   "execution_count": 31,
   "id": "3ac930e0",
   "metadata": {},
   "outputs": [
    {
     "name": "stdout",
     "output_type": "stream",
     "text": [
      "[[ 0  6  6]\n",
      " [ 1 67  5]\n",
      " [ 0  4 68]]\n"
     ]
    }
   ],
   "source": [
    "print(confusion_matrix(y_test, baseline.predict(X_test)))"
   ]
  },
  {
   "cell_type": "code",
   "execution_count": 32,
   "id": "65d8197c",
   "metadata": {},
   "outputs": [
    {
     "data": {
      "text/plain": [
       "{'B': 4.216216216216216, 'L': 0.7255813953488373, 'R': 0.7222222222222222}"
      ]
     },
     "execution_count": 32,
     "metadata": {},
     "output_type": "execute_result"
    }
   ],
   "source": [
    "from sklearn.utils.class_weight import compute_class_weight\n",
    "\n",
    "class_weights = compute_class_weight('balanced', classes=np.unique(y_train), y=y_train)\n",
    "class_weights = dict(zip(np.unique(y_train), class_weights))\n",
    "class_weights"
   ]
  },
  {
   "cell_type": "code",
   "execution_count": 33,
   "id": "a9a660c5",
   "metadata": {},
   "outputs": [
    {
     "name": "stdout",
     "output_type": "stream",
     "text": [
      "0.8598726114649682\n"
     ]
    },
    {
     "data": {
      "text/plain": [
       "0.9235668789808917"
      ]
     },
     "execution_count": 33,
     "metadata": {},
     "output_type": "execute_result"
    }
   ],
   "source": [
    "weighted = LogisticRegression(class_weight=class_weights)\n",
    "weighted.fit(X_train, y_train)\n",
    "print(bl_score)\n",
    "weighted.score(X_test, y_test)"
   ]
  },
  {
   "cell_type": "code",
   "execution_count": 34,
   "id": "241dcd7e",
   "metadata": {},
   "outputs": [
    {
     "name": "stdout",
     "output_type": "stream",
     "text": [
      "              precision    recall  f1-score   support\n",
      "\n",
      "           B       0.61      0.92      0.73        12\n",
      "           L       0.97      0.92      0.94        73\n",
      "           R       0.96      0.93      0.94        72\n",
      "\n",
      "    accuracy                           0.92       157\n",
      "   macro avg       0.85      0.92      0.87       157\n",
      "weighted avg       0.94      0.92      0.93       157\n",
      "\n"
     ]
    }
   ],
   "source": [
    "print(classification_report(y_test, weighted.predict(X_test)))"
   ]
  },
  {
   "cell_type": "code",
   "execution_count": 35,
   "id": "2735da34",
   "metadata": {},
   "outputs": [
    {
     "data": {
      "text/plain": [
       "class\n",
       "R    216\n",
       "L    215\n",
       "B     37\n",
       "Name: count, dtype: int64"
      ]
     },
     "execution_count": 35,
     "metadata": {},
     "output_type": "execute_result"
    }
   ],
   "source": [
    "y_train.value_counts()"
   ]
  },
  {
   "cell_type": "code",
   "execution_count": 36,
   "id": "565b9d15",
   "metadata": {},
   "outputs": [],
   "source": [
    "X_train[\"target\"] = y_train"
   ]
  },
  {
   "cell_type": "code",
   "execution_count": 37,
   "id": "8d9b435b",
   "metadata": {},
   "outputs": [],
   "source": [
    "oversampled = X_train[X_train.target == \"B\"].sample(n=216-37, replace=True, ignore_index=True)"
   ]
  },
  {
   "cell_type": "code",
   "execution_count": 38,
   "id": "6507566c",
   "metadata": {},
   "outputs": [
    {
     "name": "stdout",
     "output_type": "stream",
     "text": [
      "(647, 5)\n"
     ]
    },
    {
     "data": {
      "text/html": [
       "<div>\n",
       "<style scoped>\n",
       "    .dataframe tbody tr th:only-of-type {\n",
       "        vertical-align: middle;\n",
       "    }\n",
       "\n",
       "    .dataframe tbody tr th {\n",
       "        vertical-align: top;\n",
       "    }\n",
       "\n",
       "    .dataframe thead th {\n",
       "        text-align: right;\n",
       "    }\n",
       "</style>\n",
       "<table border=\"1\" class=\"dataframe\">\n",
       "  <thead>\n",
       "    <tr style=\"text-align: right;\">\n",
       "      <th></th>\n",
       "      <th>left-weight</th>\n",
       "      <th>left-distance</th>\n",
       "      <th>right-weight</th>\n",
       "      <th>right-distance</th>\n",
       "      <th>target</th>\n",
       "    </tr>\n",
       "  </thead>\n",
       "  <tbody>\n",
       "    <tr>\n",
       "      <th>262</th>\n",
       "      <td>3</td>\n",
       "      <td>1</td>\n",
       "      <td>3</td>\n",
       "      <td>3</td>\n",
       "      <td>R</td>\n",
       "    </tr>\n",
       "    <tr>\n",
       "      <th>401</th>\n",
       "      <td>4</td>\n",
       "      <td>2</td>\n",
       "      <td>1</td>\n",
       "      <td>2</td>\n",
       "      <td>L</td>\n",
       "    </tr>\n",
       "    <tr>\n",
       "      <th>174</th>\n",
       "      <td>2</td>\n",
       "      <td>2</td>\n",
       "      <td>5</td>\n",
       "      <td>5</td>\n",
       "      <td>R</td>\n",
       "    </tr>\n",
       "    <tr>\n",
       "      <th>81</th>\n",
       "      <td>1</td>\n",
       "      <td>4</td>\n",
       "      <td>2</td>\n",
       "      <td>2</td>\n",
       "      <td>B</td>\n",
       "    </tr>\n",
       "    <tr>\n",
       "      <th>36</th>\n",
       "      <td>1</td>\n",
       "      <td>2</td>\n",
       "      <td>3</td>\n",
       "      <td>2</td>\n",
       "      <td>R</td>\n",
       "    </tr>\n",
       "  </tbody>\n",
       "</table>\n",
       "</div>"
      ],
      "text/plain": [
       "     left-weight  left-distance  right-weight  right-distance target\n",
       "262            3              1             3               3      R\n",
       "401            4              2             1               2      L\n",
       "174            2              2             5               5      R\n",
       "81             1              4             2               2      B\n",
       "36             1              2             3               2      R"
      ]
     },
     "execution_count": 38,
     "metadata": {},
     "output_type": "execute_result"
    }
   ],
   "source": [
    "oversampled = pd.concat([X_train, oversampled])\n",
    "print(oversampled.shape)\n",
    "oversampled.head()"
   ]
  },
  {
   "cell_type": "code",
   "execution_count": 39,
   "id": "9c2922e9",
   "metadata": {},
   "outputs": [
    {
     "data": {
      "text/plain": [
       "(array([216.,   0.,   0.,   0.,   0., 215.,   0.,   0.,   0., 216.]),\n",
       " array([0. , 0.2, 0.4, 0.6, 0.8, 1. , 1.2, 1.4, 1.6, 1.8, 2. ]),\n",
       " <BarContainer object of 10 artists>)"
      ]
     },
     "execution_count": 39,
     "metadata": {},
     "output_type": "execute_result"
    },
    {
     "data": {
      "image/png": "[encoded data removed]",
      "text/plain": [
       "<Figure size 640x480 with 1 Axes>"
      ]
     },
     "metadata": {},
     "output_type": "display_data"
    }
   ],
   "source": [
    "plt.hist(oversampled.target)"
   ]
  },
  {
   "cell_type": "code",
   "execution_count": 40,
   "id": "49c00573",
   "metadata": {},
   "outputs": [],
   "source": [
    "y_train_OS = oversampled.target\n",
    "X_train_OS = oversampled.drop([\"target\"], axis=1)"
   ]
  },
  {
   "cell_type": "code",
   "execution_count": 41,
   "id": "56e017f7",
   "metadata": {},
   "outputs": [
    {
     "name": "stdout",
     "output_type": "stream",
     "text": [
      "0.8598726114649682\n"
     ]
    },
    {
     "data": {
      "text/plain": [
       "0.9235668789808917"
      ]
     },
     "execution_count": 41,
     "metadata": {},
     "output_type": "execute_result"
    }
   ],
   "source": [
    "OSmodel = LogisticRegression()\n",
    "OSmodel.fit(X_train_OS, y_train_OS)\n",
    "print(bl_score)\n",
    "OSmodel.score(X_test, y_test)"
   ]
  },
  {
   "cell_type": "code",
   "execution_count": 42,
   "id": "ed939954",
   "metadata": {},
   "outputs": [
    {
     "name": "stdout",
     "output_type": "stream",
     "text": [
      "              precision    recall  f1-score   support\n",
      "\n",
      "           B       0.61      0.92      0.73        12\n",
      "           L       0.97      0.92      0.94        73\n",
      "           R       0.96      0.93      0.94        72\n",
      "\n",
      "    accuracy                           0.92       157\n",
      "   macro avg       0.85      0.92      0.87       157\n",
      "weighted avg       0.94      0.92      0.93       157\n",
      "\n"
     ]
    }
   ],
   "source": [
    "print(classification_report(y_test, OSmodel.predict(X_test)))"
   ]
  },
  {
   "cell_type": "code",
   "execution_count": 43,
   "id": "b1dc0499",
   "metadata": {},
   "outputs": [
    {
     "name": "stderr",
     "output_type": "stream",
     "text": [
      "C:\\Users\\Sofia\\AppData\\Local\\Temp\\ipykernel_4884\\1011001378.py:2: SettingWithCopyWarning: \n",
      "A value is trying to be set on a copy of a slice from a DataFrame\n",
      "\n",
      "See the caveats in the documentation: https://pandas.pydata.org/pandas-docs/stable/user_guide/indexing.html#returning-a-view-versus-a-copy\n",
      "  df.data.drop([\"instance_id\"], inplace=True, axis=1)\n"
     ]
    },
    {
     "data": {
      "text/html": [
       "<div>\n",
       "<style scoped>\n",
       "    .dataframe tbody tr th:only-of-type {\n",
       "        vertical-align: middle;\n",
       "    }\n",
       "\n",
       "    .dataframe tbody tr th {\n",
       "        vertical-align: top;\n",
       "    }\n",
       "\n",
       "    .dataframe thead th {\n",
       "        text-align: right;\n",
       "    }\n",
       "</style>\n",
       "<table border=\"1\" class=\"dataframe\">\n",
       "  <thead>\n",
       "    <tr style=\"text-align: right;\">\n",
       "      <th></th>\n",
       "      <th>repetition</th>\n",
       "      <th>stacks</th>\n",
       "      <th>tiers</th>\n",
       "      <th>stack.tier.ratio</th>\n",
       "      <th>container.density</th>\n",
       "      <th>empty.stack.pct</th>\n",
       "      <th>overstowing.stack.pct</th>\n",
       "      <th>overstowing.2cont.stack.pct</th>\n",
       "      <th>group.same.min</th>\n",
       "      <th>group.same.max</th>\n",
       "      <th>...</th>\n",
       "      <th>avg.l1.top.left.lg.group</th>\n",
       "      <th>cont.empty.grt.estack</th>\n",
       "      <th>pct.bottom.pct.on.top</th>\n",
       "      <th>algorithm_astar.symmulgt.transmul</th>\n",
       "      <th>algorithm_astar.symmullt.transmul</th>\n",
       "      <th>algorithm_idastar.symmulgt.transmul</th>\n",
       "      <th>algorithm_idastar.symmullt.transmul</th>\n",
       "      <th>runstatus_memout</th>\n",
       "      <th>runstatus_ok</th>\n",
       "      <th>runstatus_timeout</th>\n",
       "    </tr>\n",
       "  </thead>\n",
       "  <tbody>\n",
       "    <tr>\n",
       "      <th>0</th>\n",
       "      <td>1</td>\n",
       "      <td>16</td>\n",
       "      <td>5</td>\n",
       "      <td>0.3125</td>\n",
       "      <td>0.6</td>\n",
       "      <td>0.0625</td>\n",
       "      <td>0.6250</td>\n",
       "      <td>0.909091</td>\n",
       "      <td>0</td>\n",
       "      <td>6</td>\n",
       "      <td>...</td>\n",
       "      <td>0.509615</td>\n",
       "      <td>0.1750</td>\n",
       "      <td>0.0</td>\n",
       "      <td>True</td>\n",
       "      <td>False</td>\n",
       "      <td>False</td>\n",
       "      <td>False</td>\n",
       "      <td>False</td>\n",
       "      <td>True</td>\n",
       "      <td>False</td>\n",
       "    </tr>\n",
       "    <tr>\n",
       "      <th>1</th>\n",
       "      <td>1</td>\n",
       "      <td>16</td>\n",
       "      <td>5</td>\n",
       "      <td>0.3125</td>\n",
       "      <td>0.6</td>\n",
       "      <td>0.0625</td>\n",
       "      <td>0.6250</td>\n",
       "      <td>0.909091</td>\n",
       "      <td>0</td>\n",
       "      <td>6</td>\n",
       "      <td>...</td>\n",
       "      <td>0.509615</td>\n",
       "      <td>0.1750</td>\n",
       "      <td>0.0</td>\n",
       "      <td>False</td>\n",
       "      <td>True</td>\n",
       "      <td>False</td>\n",
       "      <td>False</td>\n",
       "      <td>False</td>\n",
       "      <td>True</td>\n",
       "      <td>False</td>\n",
       "    </tr>\n",
       "    <tr>\n",
       "      <th>2</th>\n",
       "      <td>1</td>\n",
       "      <td>16</td>\n",
       "      <td>5</td>\n",
       "      <td>0.3125</td>\n",
       "      <td>0.6</td>\n",
       "      <td>0.0625</td>\n",
       "      <td>0.6250</td>\n",
       "      <td>0.909091</td>\n",
       "      <td>0</td>\n",
       "      <td>6</td>\n",
       "      <td>...</td>\n",
       "      <td>0.509615</td>\n",
       "      <td>0.1750</td>\n",
       "      <td>0.0</td>\n",
       "      <td>False</td>\n",
       "      <td>False</td>\n",
       "      <td>True</td>\n",
       "      <td>False</td>\n",
       "      <td>False</td>\n",
       "      <td>True</td>\n",
       "      <td>False</td>\n",
       "    </tr>\n",
       "    <tr>\n",
       "      <th>3</th>\n",
       "      <td>1</td>\n",
       "      <td>16</td>\n",
       "      <td>5</td>\n",
       "      <td>0.3125</td>\n",
       "      <td>0.6</td>\n",
       "      <td>0.0625</td>\n",
       "      <td>0.6250</td>\n",
       "      <td>0.909091</td>\n",
       "      <td>0</td>\n",
       "      <td>6</td>\n",
       "      <td>...</td>\n",
       "      <td>0.509615</td>\n",
       "      <td>0.1750</td>\n",
       "      <td>0.0</td>\n",
       "      <td>False</td>\n",
       "      <td>False</td>\n",
       "      <td>False</td>\n",
       "      <td>True</td>\n",
       "      <td>False</td>\n",
       "      <td>False</td>\n",
       "      <td>True</td>\n",
       "    </tr>\n",
       "    <tr>\n",
       "      <th>4</th>\n",
       "      <td>1</td>\n",
       "      <td>16</td>\n",
       "      <td>5</td>\n",
       "      <td>0.3125</td>\n",
       "      <td>0.6</td>\n",
       "      <td>0.1875</td>\n",
       "      <td>0.5625</td>\n",
       "      <td>1.000000</td>\n",
       "      <td>0</td>\n",
       "      <td>7</td>\n",
       "      <td>...</td>\n",
       "      <td>0.663462</td>\n",
       "      <td>0.3375</td>\n",
       "      <td>0.0</td>\n",
       "      <td>True</td>\n",
       "      <td>False</td>\n",
       "      <td>False</td>\n",
       "      <td>False</td>\n",
       "      <td>True</td>\n",
       "      <td>False</td>\n",
       "      <td>False</td>\n",
       "    </tr>\n",
       "  </tbody>\n",
       "</table>\n",
       "<p>5 rows × 30 columns</p>\n",
       "</div>"
      ],
      "text/plain": [
       "   repetition  stacks  tiers  stack.tier.ratio  container.density  \\\n",
       "0           1      16      5            0.3125                0.6   \n",
       "1           1      16      5            0.3125                0.6   \n",
       "2           1      16      5            0.3125                0.6   \n",
       "3           1      16      5            0.3125                0.6   \n",
       "4           1      16      5            0.3125                0.6   \n",
       "\n",
       "   empty.stack.pct  overstowing.stack.pct  overstowing.2cont.stack.pct  \\\n",
       "0           0.0625                 0.6250                     0.909091   \n",
       "1           0.0625                 0.6250                     0.909091   \n",
       "2           0.0625                 0.6250                     0.909091   \n",
       "3           0.0625                 0.6250                     0.909091   \n",
       "4           0.1875                 0.5625                     1.000000   \n",
       "\n",
       "   group.same.min  group.same.max  ...  avg.l1.top.left.lg.group  \\\n",
       "0               0               6  ...                  0.509615   \n",
       "1               0               6  ...                  0.509615   \n",
       "2               0               6  ...                  0.509615   \n",
       "3               0               6  ...                  0.509615   \n",
       "4               0               7  ...                  0.663462   \n",
       "\n",
       "   cont.empty.grt.estack  pct.bottom.pct.on.top  \\\n",
       "0                 0.1750                    0.0   \n",
       "1                 0.1750                    0.0   \n",
       "2                 0.1750                    0.0   \n",
       "3                 0.1750                    0.0   \n",
       "4                 0.3375                    0.0   \n",
       "\n",
       "   algorithm_astar.symmulgt.transmul  algorithm_astar.symmullt.transmul  \\\n",
       "0                               True                              False   \n",
       "1                              False                               True   \n",
       "2                              False                              False   \n",
       "3                              False                              False   \n",
       "4                               True                              False   \n",
       "\n",
       "   algorithm_idastar.symmulgt.transmul  algorithm_idastar.symmullt.transmul  \\\n",
       "0                                False                                False   \n",
       "1                                False                                False   \n",
       "2                                 True                                False   \n",
       "3                                False                                 True   \n",
       "4                                False                                False   \n",
       "\n",
       "   runstatus_memout  runstatus_ok  runstatus_timeout  \n",
       "0             False          True              False  \n",
       "1             False          True              False  \n",
       "2             False          True              False  \n",
       "3             False         False               True  \n",
       "4              True         False              False  \n",
       "\n",
       "[5 rows x 30 columns]"
      ]
     },
     "execution_count": 43,
     "metadata": {},
     "output_type": "execute_result"
    }
   ],
   "source": [
    "df = fetch_openml(\"CPMP-2015-regression\", version=1)\n",
    "df.data.drop([\"instance_id\"], inplace=True, axis=1)\n",
    "df.data = pd.get_dummies(df.data)\n",
    "df.data.head()"
   ]
  },
  {
   "cell_type": "code",
   "execution_count": 44,
   "id": "ae19cec6",
   "metadata": {},
   "outputs": [
    {
     "data": {
      "image/png": "[encoded data removed]",
      "text/plain": [
       "<Figure size 640x480 with 1 Axes>"
      ]
     },
     "metadata": {},
     "output_type": "display_data"
    }
   ],
   "source": [
    "plt.hist(df.target, 100)\n",
    "_ = plt.plot()"
   ]
  },
  {
   "cell_type": "code",
   "execution_count": 45,
   "id": "68b4c336",
   "metadata": {},
   "outputs": [],
   "source": [
    "X_train, X_test, y_train, y_test = train_test_split(df.data, df.target, test_size=0.25, random_state=42)"
   ]
  },
  {
   "cell_type": "code",
   "execution_count": 46,
   "id": "3403aafd",
   "metadata": {},
   "outputs": [
    {
     "data": {
      "image/png": "[encoded data removed]",
      "text/plain": [
       "<Figure size 640x480 with 1 Axes>"
      ]
     },
     "metadata": {},
     "output_type": "display_data"
    }
   ],
   "source": [
    "plt.hist(y_train, 100)\n",
    "_ = plt.plot()"
   ]
  },
  {
   "cell_type": "code",
   "execution_count": 47,
   "id": "05c188de",
   "metadata": {},
   "outputs": [
    {
     "name": "stderr",
     "output_type": "stream",
     "text": [
      "c:\\Users\\Sofia\\anaconda3\\Lib\\site-packages\\sklearn\\preprocessing\\_discretization.py:248: FutureWarning: In version 1.5 onwards, subsample=200_000 will be used by default. Set subsample explicitly to silence this warning in the mean time. Set subsample=None to disable subsampling explicitly.\n",
      "  warnings.warn(\n"
     ]
    }
   ],
   "source": [
    "from sklearn.preprocessing import KBinsDiscretizer\n",
    "\n",
    "y_binned = KBinsDiscretizer(n_bins=5, encode=\"ordinal\", strategy=\"uniform\").fit_transform(pd.DataFrame(y_train))"
   ]
  },
  {
   "cell_type": "code",
   "execution_count": 48,
   "id": "4b626a56",
   "metadata": {},
   "outputs": [
    {
     "data": {
      "text/plain": [
       "(array([1049.,    0.,   62.,    0.,    0.,   29.,    0.,   17.,    0.,\n",
       "         424.]),\n",
       " array([0. , 0.4, 0.8, 1.2, 1.6, 2. , 2.4, 2.8, 3.2, 3.6, 4. ]),\n",
       " <BarContainer object of 10 artists>)"
      ]
     },
     "execution_count": 48,
     "metadata": {},
     "output_type": "execute_result"
    },
    {
     "data": {
      "image/png": "[encoded data removed]",
      "text/plain": [
       "<Figure size 640x480 with 1 Axes>"
      ]
     },
     "metadata": {},
     "output_type": "display_data"
    }
   ],
   "source": [
    "plt.hist(y_binned)"
   ]
  },
  {
   "cell_type": "code",
   "execution_count": 49,
   "id": "8136e1b6",
   "metadata": {},
   "outputs": [
    {
     "name": "stderr",
     "output_type": "stream",
     "text": [
      "c:\\Users\\Sofia\\anaconda3\\Lib\\site-packages\\sklearn\\preprocessing\\_discretization.py:322: UserWarning: Bins whose width are too small (i.e., <= 1e-8) in feature 0 are removed. Consider decreasing the number of bins.\n",
      "  warnings.warn(\n"
     ]
    }
   ],
   "source": [
    "y_binned = KBinsDiscretizer(n_bins=5, encode=\"ordinal\", strategy=\"quantile\").fit_transform(pd.DataFrame(y_train))"
   ]
  },
  {
   "cell_type": "code",
   "execution_count": 50,
   "id": "94eb71fe",
   "metadata": {},
   "outputs": [
    {
     "data": {
      "text/plain": [
       "(array([316.,   0.,   0., 316.,   0.,   0., 316.,   0.,   0., 633.]),\n",
       " array([0. , 0.3, 0.6, 0.9, 1.2, 1.5, 1.8, 2.1, 2.4, 2.7, 3. ]),\n",
       " <BarContainer object of 10 artists>)"
      ]
     },
     "execution_count": 50,
     "metadata": {},
     "output_type": "execute_result"
    },
    {
     "data": {
      "image/png": "[encoded data removed]",
      "text/plain": [
       "<Figure size 640x480 with 1 Axes>"
      ]
     },
     "metadata": {},
     "output_type": "display_data"
    }
   ],
   "source": [
    "plt.hist(y_binned)"
   ]
  },
  {
   "cell_type": "code",
   "execution_count": null,
   "id": "9e9db650",
   "metadata": {},
   "outputs": [],
   "source": []
  }
 ],
 "metadata": {
  "kernelspec": {
   "display_name": "base",
   "language": "python",
   "name": "python3"
  },
  "language_info": {
   "codemirror_mode": {
    "name": "ipython",
    "version": 3
   },
   "file_extension": ".py",
   "mimetype": "text/x-python",
   "name": "python",
   "nbconvert_exporter": "python",
   "pygments_lexer": "ipython3",
   "version": "3.12.4"
  }
 },
 "nbformat": 4,
 "nbformat_minor": 5
}
